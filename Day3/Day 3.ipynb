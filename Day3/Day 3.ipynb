{
 "cells": [
  {
   "cell_type": "code",
   "execution_count": 7,
   "id": "f831b59c-ba62-4b4e-a6fe-7654c3b572d0",
   "metadata": {},
   "outputs": [
    {
     "name": "stdout",
     "output_type": "stream",
     "text": [
      "something went wrong \n",
      "Invalid datatype comparsion \n"
     ]
    }
   ],
   "source": [
    "#excepetion handling \n",
    "age='20'\n",
    "try:\n",
    "    #print(1/0)\n",
    "    if age>=18:\n",
    "        print('can vote')\n",
    "    else:\n",
    "        print('can\\'t vote')\n",
    "except TypeError:\n",
    "    print('something went wrong ')\n",
    "    print('Invalid datatype comparison ')\n",
    "except:\n",
    "    print('invalid code')"
   ]
  },
  {
   "cell_type": "code",
   "execution_count": 8,
   "id": "bd19dc4e-2939-4fc6-8957-8d3d3696bfd2",
   "metadata": {},
   "outputs": [],
   "source": [
    "def students_records(**kwargs): #** convert the args into dict\n",
    "    # print(kwargs)\n",
    "    # try exception\n",
    "    import pandas as pd\n",
    "    try:\n",
    "        result = pd.DataFrame(kwargs)\n",
    "        return result\n",
    "    except:\n",
    "        result = pd.DataFrame(kwargs,index = [1])\n",
    "        return result"
   ]
  },
  {
   "cell_type": "code",
   "execution_count": 15,
   "id": "001a19a8-69f8-4af0-8607-60d7fc7d344a",
   "metadata": {},
   "outputs": [
    {
     "data": {
      "text/html": [
       "<div>\n",
       "<style scoped>\n",
       "    .dataframe tbody tr th:only-of-type {\n",
       "        vertical-align: middle;\n",
       "    }\n",
       "\n",
       "    .dataframe tbody tr th {\n",
       "        vertical-align: top;\n",
       "    }\n",
       "\n",
       "    .dataframe thead th {\n",
       "        text-align: right;\n",
       "    }\n",
       "</style>\n",
       "<table border=\"1\" class=\"dataframe\">\n",
       "  <thead>\n",
       "    <tr style=\"text-align: right;\">\n",
       "      <th></th>\n",
       "      <th>Name</th>\n",
       "      <th>Age</th>\n",
       "      <th>Sec</th>\n",
       "      <th>Address</th>\n",
       "    </tr>\n",
       "  </thead>\n",
       "  <tbody>\n",
       "    <tr>\n",
       "      <th>0</th>\n",
       "      <td>Anjali</td>\n",
       "      <td>19</td>\n",
       "      <td>A</td>\n",
       "      <td>Noida</td>\n",
       "    </tr>\n",
       "    <tr>\n",
       "      <th>1</th>\n",
       "      <td>Roshni</td>\n",
       "      <td>21</td>\n",
       "      <td>B</td>\n",
       "      <td>Delhi</td>\n",
       "    </tr>\n",
       "    <tr>\n",
       "      <th>2</th>\n",
       "      <td>Prachi</td>\n",
       "      <td>20</td>\n",
       "      <td>C</td>\n",
       "      <td>Greater Noida</td>\n",
       "    </tr>\n",
       "  </tbody>\n",
       "</table>\n",
       "</div>"
      ],
      "text/plain": [
       "     Name  Age Sec         Address\n",
       "0  Anjali   19   A           Noida\n",
       "1  Roshni   21   B           Delhi\n",
       "2  Prachi   20   C   Greater Noida"
      ]
     },
     "execution_count": 15,
     "metadata": {},
     "output_type": "execute_result"
    }
   ],
   "source": [
    "students_records(Name = ['Anjali','Roshni','Prachi'],\n",
    "                Age = [19,21,20],\n",
    "                Sec=list('ABC'),\n",
    "                Address = ['Noida','Delhi',' Greater Noida'])"
   ]
  },
  {
   "cell_type": "code",
   "execution_count": 30,
   "id": "c1c8ab99-fa1e-4ca7-9df7-9b1248381fff",
   "metadata": {},
   "outputs": [],
   "source": [
    "def show_time():\n",
    "    try:\n",
    "        while True:\n",
    "            import time\n",
    "            print(time.asctime())\n",
    "            time.sleep(1)\n",
    "            display(clear = True)\n",
    "    except:\n",
    "        print('the code is stopped!!!!!!!!!')"
   ]
  },
  {
   "cell_type": "code",
   "execution_count": 31,
   "id": "583d34cc-9b8e-4114-908b-63f23dee1935",
   "metadata": {},
   "outputs": [
    {
     "name": "stdout",
     "output_type": "stream",
     "text": [
      "Fri Jul  4 10:40:16 2025\n",
      "the code is stopped!!!!!!!!!\n"
     ]
    }
   ],
   "source": [
    "show_time()"
   ]
  },
  {
   "cell_type": "code",
   "execution_count": null,
   "id": "f5050d5e-e931-43ad-950f-9aba7a161576",
   "metadata": {},
   "outputs": [],
   "source": []
  },
  {
   "cell_type": "code",
   "execution_count": null,
   "id": "dea0a347-2838-4863-9c37-99a57307b190",
   "metadata": {},
   "outputs": [],
   "source": []
  },
  {
   "cell_type": "code",
   "execution_count": null,
   "id": "f3d61888-b1b4-49b5-b192-bb7f5cf28e6c",
   "metadata": {},
   "outputs": [],
   "source": []
  },
  {
   "cell_type": "code",
   "execution_count": null,
   "id": "a7aa4605-8759-40f9-a94a-6a0aa3c4f253",
   "metadata": {},
   "outputs": [],
   "source": []
  },
  {
   "cell_type": "code",
   "execution_count": null,
   "id": "d9a7526f-1c82-4ef1-805b-afe517465de1",
   "metadata": {},
   "outputs": [],
   "source": []
  },
  {
   "cell_type": "code",
   "execution_count": null,
   "id": "8345df58-2061-4e6f-8491-746daba94881",
   "metadata": {},
   "outputs": [],
   "source": [
    "\n"
   ]
  },
  {
   "cell_type": "code",
   "execution_count": 45,
   "id": "35d49366-8a68-4b8b-bd14-7b5027aa66cc",
   "metadata": {},
   "outputs": [
    {
     "name": "stdout",
     "output_type": "stream",
     "text": [
      "done\n"
     ]
    }
   ],
   "source": [
    "import Anjali as a\n",
    "print('done')"
   ]
  },
  {
   "cell_type": "code",
   "execution_count": 51,
   "id": "541df95f-c843-41b5-b3bf-738f3da43dc1",
   "metadata": {},
   "outputs": [
    {
     "name": "stdout",
     "output_type": "stream",
     "text": [
      "120\n",
      "     * \n",
      "    * * \n",
      "   * * * \n",
      "  * * * * \n",
      " * * * * * \n",
      "* * * * * * \n",
      "None\n"
     ]
    }
   ],
   "source": [
    "import Anjali as a\n",
    "print(a.factorial(5))\n",
    "print(a.print_star(n=6, typ= 'mid'))"
   ]
  },
  {
   "cell_type": "code",
   "execution_count": 52,
   "id": "99104282-649e-42e9-8f7c-1a38929acab4",
   "metadata": {},
   "outputs": [
    {
     "data": {
      "text/plain": [
       "[0, 1, 1, 2, 3]"
      ]
     },
     "execution_count": 52,
     "metadata": {},
     "output_type": "execute_result"
    }
   ],
   "source": [
    "a.give_fibo(5)"
   ]
  },
  {
   "cell_type": "code",
   "execution_count": 53,
   "id": "11f27bf6-a8da-452f-a7cf-d8bdfe924938",
   "metadata": {},
   "outputs": [
    {
     "data": {
      "text/plain": [
       "'palindrome'"
      ]
     },
     "execution_count": 53,
     "metadata": {},
     "output_type": "execute_result"
    }
   ],
   "source": [
    "a.check_palindrome('naman')"
   ]
  },
  {
   "cell_type": "code",
   "execution_count": 54,
   "id": "b5f28c0b-c094-4b2f-93e2-f55156ddecc9",
   "metadata": {},
   "outputs": [
    {
     "data": {
      "text/plain": [
       "'prime number'"
      ]
     },
     "execution_count": 54,
     "metadata": {},
     "output_type": "execute_result"
    }
   ],
   "source": [
    "a.check_prime(57)"
   ]
  },
  {
   "cell_type": "code",
   "execution_count": 55,
   "id": "324dd97d-eb96-46e0-a1c5-2a7d5a49ae6b",
   "metadata": {},
   "outputs": [
    {
     "data": {
      "text/plain": [
       "78"
      ]
     },
     "execution_count": 55,
     "metadata": {},
     "output_type": "execute_result"
    }
   ],
   "source": [
    "a.maxx(45,46,76,78,53,34)"
   ]
  },
  {
   "cell_type": "code",
   "execution_count": 57,
   "id": "f0cf4d4e-e691-485c-8a96-36e1af6f1417",
   "metadata": {},
   "outputs": [
    {
     "data": {
      "text/plain": [
       "28"
      ]
     },
     "execution_count": 57,
     "metadata": {},
     "output_type": "execute_result"
    }
   ],
   "source": [
    "a.sum_of_n_natural_numbers(7)"
   ]
  },
  {
   "cell_type": "code",
   "execution_count": 59,
   "id": "15b53d06-896c-4a45-9dc5-c34f71f31c21",
   "metadata": {},
   "outputs": [
    {
     "name": "stdout",
     "output_type": "stream",
     "text": [
      "pygame 2.6.1 (SDL 2.28.4, Python 3.13.5)\n",
      "Hello from the pygame community. https://www.pygame.org/contribute.html\n"
     ]
    }
   ],
   "source": [
    "a.sound_box(200)"
   ]
  },
  {
   "cell_type": "code",
   "execution_count": null,
   "id": "4ca08011-9e1c-4c67-9206-493dd23141f1",
   "metadata": {},
   "outputs": [],
   "source": []
  },
  {
   "cell_type": "code",
   "execution_count": 63,
   "id": "237934fc-2fd1-4fca-a9ef-c396339383ce",
   "metadata": {},
   "outputs": [
    {
     "name": "stdout",
     "output_type": "stream",
     "text": [
      "done\n"
     ]
    }
   ],
   "source": [
    "from Anjali import students_records\n",
    "print('done ')\n",
    "\n"
   ]
  },
  {
   "cell_type": "code",
   "execution_count": 65,
   "id": "2d7b9c1f-7f66-440a-9d3a-de602bf96dd5",
   "metadata": {},
   "outputs": [
    {
     "data": {
      "text/html": [
       "<div>\n",
       "<style scoped>\n",
       "    .dataframe tbody tr th:only-of-type {\n",
       "        vertical-align: middle;\n",
       "    }\n",
       "\n",
       "    .dataframe tbody tr th {\n",
       "        vertical-align: top;\n",
       "    }\n",
       "\n",
       "    .dataframe thead th {\n",
       "        text-align: right;\n",
       "    }\n",
       "</style>\n",
       "<table border=\"1\" class=\"dataframe\">\n",
       "  <thead>\n",
       "    <tr style=\"text-align: right;\">\n",
       "      <th></th>\n",
       "      <th>name</th>\n",
       "      <th>age</th>\n",
       "    </tr>\n",
       "  </thead>\n",
       "  <tbody>\n",
       "    <tr>\n",
       "      <th>1</th>\n",
       "      <td>Anjali</td>\n",
       "      <td>20</td>\n",
       "    </tr>\n",
       "  </tbody>\n",
       "</table>\n",
       "</div>"
      ],
      "text/plain": [
       "     name  age\n",
       "1  Anjali   20"
      ]
     },
     "execution_count": 65,
     "metadata": {},
     "output_type": "execute_result"
    }
   ],
   "source": [
    "students_records(name='Anjali', age=20)"
   ]
  },
  {
   "cell_type": "code",
   "execution_count": 66,
   "id": "bf5eb98a-92f7-4849-b51b-b60932ff0f8c",
   "metadata": {},
   "outputs": [
    {
     "name": "stdout",
     "output_type": "stream",
     "text": [
      " done \n"
     ]
    }
   ],
   "source": [
    "from Anjali import *\n",
    "print(' done ')"
   ]
  },
  {
   "cell_type": "code",
   "execution_count": 68,
   "id": "087a4027-7e25-4206-b343-acfdfd202b92",
   "metadata": {},
   "outputs": [
    {
     "data": {
      "text/plain": [
       "120"
      ]
     },
     "execution_count": 68,
     "metadata": {},
     "output_type": "execute_result"
    }
   ],
   "source": [
    "factorial(5)"
   ]
  },
  {
   "cell_type": "code",
   "execution_count": 69,
   "id": "5462b0b1-587a-4370-b50f-89c8ee2f79e7",
   "metadata": {},
   "outputs": [
    {
     "name": "stdout",
     "output_type": "stream",
     "text": [
      "done\n"
     ]
    }
   ],
   "source": [
    "import turtle \n",
    "print('done')"
   ]
  },
  {
   "cell_type": "code",
   "execution_count": 40,
   "id": "5cb83c68-fa74-46ae-8fc5-4a4f5415aaee",
   "metadata": {},
   "outputs": [],
   "source": [
    "import turtle\n",
    "for i in range(120):\n",
    "    turtle.speed(0)\n",
    "    turtle.bgcolor('black')\n",
    "    col=['red','orange','blue','green','yellow']\n",
    "    import random\n",
    "    picked_color=random.choice(col)\n",
    "    turtle.color(picked_color)\n",
    "    turtle.circle(100)\n",
    "    turtle.left(3)"
   ]
  },
  {
   "cell_type": "code",
   "execution_count": 1,
   "id": "b0592a44-56da-4ce1-a1cf-2fccd158fc37",
   "metadata": {},
   "outputs": [],
   "source": [
    "import turtle\n",
    "for i in range(6):\n",
    "    turtle.bgcolor('black')\n",
    "    turtle.color('cyan')\n",
    "    turtle.forward(150)\n",
    "    turtle.left(60)"
   ]
  },
  {
   "cell_type": "code",
   "execution_count": 1,
   "id": "2f22c01c-6783-4942-ad08-175e8b23167e",
   "metadata": {},
   "outputs": [],
   "source": [
    "#file handling \n",
    "#types of files:\n",
    "# 1. text file: any file which can be run in notepad and can be understood properly\n",
    "# .py, .html, .csv, .tsv, .css, .java, .c , .c++, .json, .js\n",
    "\n",
    "\n",
    "\n",
    "\n",
    "# 2. binary file: (to run this we need software)\n",
    "# .xlsx, .ppt, .doc, .pdf, .mp3, .mp4, .png, .jpeg, .zip, .exe, .dat, .tar"
   ]
  },
  {
   "cell_type": "code",
   "execution_count": null,
   "id": "e88e7359-ba9f-4500-8002-6c408c7a6e14",
   "metadata": {},
   "outputs": [],
   "source": [
    "#handling: read, write, copy, append, delete, open, close"
   ]
  },
  {
   "cell_type": "code",
   "execution_count": 2,
   "id": "5caddad0-c0f1-4562-a34e-7b0334e11e9e",
   "metadata": {},
   "outputs": [],
   "source": [
    "#context manager"
   ]
  },
  {
   "cell_type": "code",
   "execution_count": 9,
   "id": "924b2bc5-994c-454b-86cf-125f7f1af40c",
   "metadata": {},
   "outputs": [
    {
     "name": "stdout",
     "output_type": "stream",
     "text": [
      "print('''This is Anjali's Module in Python\n",
      "Info: http://www.google.com\n"
     ]
    }
   ],
   "source": [
    "file = open('Anjali.py', mode='r')\n",
    "print(file.read(70))\n",
    "file.close()"
   ]
  },
  {
   "cell_type": "code",
   "execution_count": 13,
   "id": "0d441882-09a8-443b-9e23-1bb33fdfa9e8",
   "metadata": {},
   "outputs": [],
   "source": [
    "f = open('Anjali.py', mode='r')"
   ]
  },
  {
   "cell_type": "code",
   "execution_count": 14,
   "id": "94851cb1-379e-4cf0-a561-1f3937dae3c7",
   "metadata": {},
   "outputs": [
    {
     "name": "stdout",
     "output_type": "stream",
     "text": [
      "print('''This is Anjali's Module in Python\n",
      "\n"
     ]
    }
   ],
   "source": [
    "print(f.readline())"
   ]
  },
  {
   "cell_type": "code",
   "execution_count": 15,
   "id": "0b0dcc1b-d2a6-48f1-893a-a28c623ccf38",
   "metadata": {},
   "outputs": [
    {
     "name": "stdout",
     "output_type": "stream",
     "text": [
      "Info: http://www.google.com/''')\n",
      "\n"
     ]
    }
   ],
   "source": [
    "print(f.readline())\n"
   ]
  },
  {
   "cell_type": "code",
   "execution_count": 16,
   "id": "2a015f4b-743d-48d4-a7e8-f4c5b699f4b5",
   "metadata": {},
   "outputs": [
    {
     "name": "stdout",
     "output_type": "stream",
     "text": [
      "\n",
      "\n"
     ]
    }
   ],
   "source": [
    "print(f.readline())"
   ]
  },
  {
   "cell_type": "code",
   "execution_count": 17,
   "id": "9aa556fc-41c2-4b89-8a06-fe99d9ef1e83",
   "metadata": {},
   "outputs": [
    {
     "name": "stdout",
     "output_type": "stream",
     "text": [
      "\n",
      "\n"
     ]
    }
   ],
   "source": [
    "print(f.readline())"
   ]
  },
  {
   "cell_type": "code",
   "execution_count": 18,
   "id": "789e6d13-c6d7-4fb3-8a64-ee8d85920d38",
   "metadata": {},
   "outputs": [
    {
     "name": "stdout",
     "output_type": "stream",
     "text": [
      "def check_palindrome(word:str):\n",
      "\n"
     ]
    }
   ],
   "source": [
    "print(f.readline())\n"
   ]
  },
  {
   "cell_type": "code",
   "execution_count": 19,
   "id": "4adac5c3-f5dc-43f3-b2db-c62095b19223",
   "metadata": {},
   "outputs": [
    {
     "name": "stdout",
     "output_type": "stream",
     "text": [
      "    if type(word)==str:\n",
      "\n"
     ]
    }
   ],
   "source": [
    "print(f.readline())"
   ]
  },
  {
   "cell_type": "code",
   "execution_count": 20,
   "id": "f00dd851-d192-4eb3-aa5f-c955e58d7013",
   "metadata": {},
   "outputs": [
    {
     "name": "stdout",
     "output_type": "stream",
     "text": [
      "        word=word.upper()\n",
      "\n"
     ]
    }
   ],
   "source": [
    "print(f.readline())"
   ]
  },
  {
   "cell_type": "code",
   "execution_count": 21,
   "id": "b8917a42-6d06-4a12-b4b1-2eaddf626f5a",
   "metadata": {},
   "outputs": [
    {
     "name": "stdout",
     "output_type": "stream",
     "text": [
      "        if word==word[::-1]:\n",
      "\n"
     ]
    }
   ],
   "source": [
    "print(f.readline())"
   ]
  },
  {
   "cell_type": "code",
   "execution_count": 22,
   "id": "1df6c50f-e3df-4caf-b133-6a388e77734a",
   "metadata": {},
   "outputs": [
    {
     "name": "stdout",
     "output_type": "stream",
     "text": [
      "            return 'palindrome'\n",
      "\n"
     ]
    }
   ],
   "source": [
    "print(f.readline())"
   ]
  },
  {
   "cell_type": "code",
   "execution_count": 23,
   "id": "21e4f520-d3d0-479b-9599-1ed5f4afdc24",
   "metadata": {},
   "outputs": [
    {
     "name": "stdout",
     "output_type": "stream",
     "text": [
      "done\n"
     ]
    }
   ],
   "source": [
    "f.close()\n",
    "print('done')"
   ]
  },
  {
   "cell_type": "code",
   "execution_count": 25,
   "id": "032dc762-c7e8-46cc-8d6c-a11f37cb3251",
   "metadata": {},
   "outputs": [
    {
     "name": "stdout",
     "output_type": "stream",
     "text": [
      "print('''This is Anjali's Module in Python\n",
      "\n",
      "Info: http://www.google.com/''')\n",
      "\n",
      "\n",
      "\n",
      "\n",
      "\n",
      "def check_palindrome(word:str):\n",
      "\n",
      "    if type(word)==str:\n",
      "\n",
      "        word=word.upper()\n",
      "\n",
      "        if word==word[::-1]:\n",
      "\n",
      "            return 'palindrome'\n",
      "\n",
      "        else:\n",
      "\n"
     ]
    }
   ],
   "source": [
    "f = open('Anjali.py', mode='r')\n",
    "for i in range(10):\n",
    "    print(f.readline())"
   ]
  },
  {
   "cell_type": "code",
   "execution_count": 27,
   "id": "587c9353-ed38-4c2f-9cd3-53f74ff53069",
   "metadata": {},
   "outputs": [
    {
     "name": "stdout",
     "output_type": "stream",
     "text": [
      "def check_palindrome(word:str):\n",
      "\n"
     ]
    }
   ],
   "source": [
    "f = open('Anjali.py', mode='r')\n",
    "for i in range(10):\n",
    "    if i==4:\n",
    "        print(f.readline())\n",
    "    else:\n",
    "        f.readline()"
   ]
  },
  {
   "cell_type": "code",
   "execution_count": 35,
   "id": "1c81dd06-11f6-438a-b65c-51c38322e4ba",
   "metadata": {},
   "outputs": [
    {
     "name": "stdout",
     "output_type": "stream",
     "text": [
      "done\n"
     ]
    }
   ],
   "source": [
    "f = open('Anjali.py', mode='r')\n",
    "data = f.readlines()\n",
    "    \n",
    "    \n",
    "f.close()\n",
    "print('done')"
   ]
  },
  {
   "cell_type": "code",
   "execution_count": 38,
   "id": "fa9467b6-f3db-46a0-8928-7dcb64606e27",
   "metadata": {},
   "outputs": [
    {
     "name": "stdout",
     "output_type": "stream",
     "text": [
      "['def check_palindrome(word:str):\\n', '    if type(word)==str:\\n', '        word=word.upper()\\n', '        if word==word[::-1]:\\n', \"            return 'palindrome'\\n\", '        else:\\n', \"            return 'not a palindrome'\\n\", '    else:\\n', \"        return ' invalid data'\\n\", '\\n', '\\n', 'def give_fibo(n):\\n', '    fibo=[0,1]\\n', '    for i in range(n-2):\\n', '        last_num=fibo[-1]\\n', '        second_num=fibo[-2]\\n']\n"
     ]
    }
   ],
   "source": [
    "print(data[4:20])"
   ]
  },
  {
   "cell_type": "code",
   "execution_count": 39,
   "id": "7e2a56c8-bd86-4ed8-9db4-c68e9e1324b7",
   "metadata": {},
   "outputs": [
    {
     "name": "stdout",
     "output_type": "stream",
     "text": [
      "            return 'not a palindrome'\n",
      "\n",
      "    else:\n",
      "\n",
      "        return ' invalid data'\n",
      "\n",
      "\n",
      "\n",
      "\n",
      "\n",
      "def give_fibo(n):\n",
      "\n",
      "    fibo=[0,1]\n",
      "\n",
      "    for i in range(n-2):\n",
      "\n",
      "        last_num=fibo[-1]\n",
      "\n",
      "        second_num=fibo[-2]\n",
      "\n",
      "        next_num=last_num+second_num\n",
      "\n",
      "        fibo.append(next_num)\n",
      "\n",
      "    return fibo\n",
      "\n",
      "\n",
      "\n",
      "\n",
      "\n",
      "def check_prime(number):\n",
      "\n",
      "    for i in range(2,number):\n",
      "\n",
      "        if number%i==0:\n",
      "\n",
      "            return 'not a prime number'\n",
      "\n",
      "            break\n",
      "\n",
      "            print('happy holi')\n",
      "\n"
     ]
    }
   ],
   "source": [
    "for i in data[10:31]:\n",
    "    print(i)"
   ]
  },
  {
   "cell_type": "code",
   "execution_count": null,
   "id": "f345d6ea-466b-4e28-a0ff-8c0f6d36d42a",
   "metadata": {},
   "outputs": [],
   "source": []
  }
 ],
 "metadata": {
  "kernelspec": {
   "display_name": "Python [conda env:base] *",
   "language": "python",
   "name": "conda-base-py"
  },
  "language_info": {
   "codemirror_mode": {
    "name": "ipython",
    "version": 3
   },
   "file_extension": ".py",
   "mimetype": "text/x-python",
   "name": "python",
   "nbconvert_exporter": "python",
   "pygments_lexer": "ipython3",
   "version": "3.13.5"
  }
 },
 "nbformat": 4,
 "nbformat_minor": 5
}
