{
 "cells": [
  {
   "cell_type": "code",
   "execution_count": 1,
   "id": "1fde78ea-45df-431b-9a62-677beb675379",
   "metadata": {},
   "outputs": [
    {
     "name": "stdout",
     "output_type": "stream",
     "text": [
      "5678 <class 'int'>\n"
     ]
    }
   ],
   "source": [
    "# Int,float, Complex = Numerical\n",
    "# Int\n",
    "a = 5678\n",
    "print(a,type(a))"
   ]
  },
  {
   "cell_type": "code",
   "execution_count": 2,
   "id": "f571ca66-7142-426f-87c0-d1dbd385124f",
   "metadata": {},
   "outputs": [
    {
     "name": "stdout",
     "output_type": "stream",
     "text": [
      "4567.8765 <class 'float'>\n"
     ]
    }
   ],
   "source": [
    "# Float\n",
    "a = 4567.8765\n",
    "print(a,type(a))"
   ]
  },
  {
   "cell_type": "code",
   "execution_count": 3,
   "id": "9df7cdfe-5d15-4be2-b028-cd802164cfd8",
   "metadata": {},
   "outputs": [
    {
     "name": "stdout",
     "output_type": "stream",
     "text": [
      "(456+8j) <class 'complex'>\n"
     ]
    }
   ],
   "source": [
    "# Complex\n",
    "a = 456 + 8j\n",
    "print(a,type(a))"
   ]
  },
  {
   "cell_type": "code",
   "execution_count": 4,
   "id": "287068e6-87a9-487e-b497-880fc349596d",
   "metadata": {},
   "outputs": [
    {
     "name": "stdout",
     "output_type": "stream",
     "text": [
      "Hello Python <class 'str'>\n"
     ]
    }
   ],
   "source": [
    "# Str, double, triple\n",
    "a = 'Hello Python'\n",
    "print(a,type(a))"
   ]
  },
  {
   "cell_type": "code",
   "execution_count": 5,
   "id": "8d6949fe-f414-4c0d-90a8-9c29d10c5120",
   "metadata": {},
   "outputs": [
    {
     "name": "stdout",
     "output_type": "stream",
     "text": [
      "Twinkle twinkle little star\n",
      "How I wonder what you are\n",
      "Up above the world so high\n",
      "Like a diamond in the sky\n",
      "Twinkle twinkle little star\n",
      "How I wonder what you are\n",
      "\n",
      "\n",
      "\n",
      "Twinkle twinkle little star\n",
      "How I wonder what you are\n",
      "Up above the world so high\n",
      "Like a diamond in the sky\n",
      "Twinkle twinkle little star\n",
      "How I wonder what you are\n"
     ]
    }
   ],
   "source": [
    "poem = '''Twinkle twinkle little star\n",
    "How I wonder what you are\n",
    "Up above the world so high\n",
    "Like a diamond in the sky\n",
    "Twinkle twinkle little star\n",
    "How I wonder what you are\n",
    "\n",
    "\n",
    "\n",
    "Twinkle twinkle little star\n",
    "How I wonder what you are\n",
    "Up above the world so high\n",
    "Like a diamond in the sky\n",
    "Twinkle twinkle little star\n",
    "How I wonder what you are'''\n",
    "\n",
    "\n",
    "print(poem)"
   ]
  },
  {
   "cell_type": "code",
   "execution_count": 6,
   "id": "86761cf2-27a8-4752-a007-c01c6383b6ee",
   "metadata": {},
   "outputs": [
    {
     "name": "stdout",
     "output_type": "stream",
     "text": [
      "(2, 3434, 5, 5467) <class 'tuple'>\n"
     ]
    }
   ],
   "source": [
    "# tuple\n",
    "a = (2,3434,5,5467)\n",
    "print(a,type(a))"
   ]
  },
  {
   "cell_type": "code",
   "execution_count": 7,
   "id": "1de48e13-8dd0-430a-a110-3ed4a0f97260",
   "metadata": {},
   "outputs": [
    {
     "name": "stdout",
     "output_type": "stream",
     "text": [
      "(2,) <class 'tuple'>\n"
     ]
    }
   ],
   "source": [
    "# tuple\n",
    "a = (2,)\n",
    "print(a,type(a))"
   ]
  },
  {
   "cell_type": "code",
   "execution_count": 8,
   "id": "41a3ebd9-36f1-4897-9d25-273d6323fbbd",
   "metadata": {},
   "outputs": [
    {
     "name": "stdout",
     "output_type": "stream",
     "text": [
      "346\n"
     ]
    }
   ],
   "source": [
    "a = (3,544,5,346,567)\n",
    "\n",
    "print(a[3])"
   ]
  },
  {
   "cell_type": "code",
   "execution_count": 9,
   "id": "2d30f57b-69ea-4aa9-9965-fe9f7e8daed1",
   "metadata": {},
   "outputs": [
    {
     "name": "stdout",
     "output_type": "stream",
     "text": [
      "(3, 544, 5, 900, 567)\n"
     ]
    }
   ],
   "source": [
    "a = list(a)\n",
    "a[3] = 900\n",
    "a = tuple(a)\n",
    "print(a)"
   ]
  },
  {
   "cell_type": "code",
   "execution_count": 10,
   "id": "6ebbcc21-48f0-4959-b7a6-60f0331f870d",
   "metadata": {},
   "outputs": [
    {
     "name": "stdout",
     "output_type": "stream",
     "text": [
      "[1, 1, 2, 2, 2, 2, 23, 3, 3, 3, 4, 4, 45]\n"
     ]
    }
   ],
   "source": [
    "std_id = [1,1,2,2,2,2,23,3,3,3,4,4,45]\n",
    "\n",
    "print(std_id)"
   ]
  },
  {
   "cell_type": "code",
   "execution_count": 11,
   "id": "b186641c-e2c3-45f9-977d-bec4aa164d57",
   "metadata": {},
   "outputs": [
    {
     "name": "stdout",
     "output_type": "stream",
     "text": [
      "[1, 2, 3, 4, 45, 23]\n"
     ]
    }
   ],
   "source": [
    "std_id = list(set(std_id))\n",
    "print(std_id)"
   ]
  },
  {
   "cell_type": "code",
   "execution_count": 12,
   "id": "b2d6b6fd-f863-48b4-ae8c-3157344adce6",
   "metadata": {},
   "outputs": [
    {
     "name": "stdout",
     "output_type": "stream",
     "text": [
      "{'Name': 'Anjali', 'Age': 20, 'Address': 'Delhi'} <class 'dict'>\n"
     ]
    }
   ],
   "source": [
    "# dict:- key value pair datatype, # hash\n",
    "\n",
    "a = {'Name':'Anjali','Age':20,'Address':'Delhi'}\n",
    "print(a,type(a))"
   ]
  },
  {
   "cell_type": "code",
   "execution_count": 13,
   "id": "15f79109-1f0d-48aa-833d-b09bc70c2ddd",
   "metadata": {},
   "outputs": [
    {
     "name": "stdout",
     "output_type": "stream",
     "text": [
      "{'Region': ['West', 'East', 'North', 'South'], 'Sales': [345, 546, 453, 456], 'Profit': [120, 200, 90, 78]}\n"
     ]
    }
   ],
   "source": [
    "data = {'Region':['West','East','North','South'],\n",
    "        'Sales':[345,546,453,456],\n",
    "        'Profit':[120,200,90,78]}\n",
    "\n",
    "print(data)"
   ]
  },
  {
   "cell_type": "code",
   "execution_count": 14,
   "id": "fe6a7f20-5990-4cc3-8b90-32cfc3cd0c8b",
   "metadata": {},
   "outputs": [
    {
     "data": {
      "text/html": [
       "<div>\n",
       "<style scoped>\n",
       "    .dataframe tbody tr th:only-of-type {\n",
       "        vertical-align: middle;\n",
       "    }\n",
       "\n",
       "    .dataframe tbody tr th {\n",
       "        vertical-align: top;\n",
       "    }\n",
       "\n",
       "    .dataframe thead th {\n",
       "        text-align: right;\n",
       "    }\n",
       "</style>\n",
       "<table border=\"1\" class=\"dataframe\">\n",
       "  <thead>\n",
       "    <tr style=\"text-align: right;\">\n",
       "      <th></th>\n",
       "      <th>Region</th>\n",
       "      <th>Sales</th>\n",
       "      <th>Profit</th>\n",
       "    </tr>\n",
       "  </thead>\n",
       "  <tbody>\n",
       "    <tr>\n",
       "      <th>0</th>\n",
       "      <td>West</td>\n",
       "      <td>345</td>\n",
       "      <td>120</td>\n",
       "    </tr>\n",
       "    <tr>\n",
       "      <th>1</th>\n",
       "      <td>East</td>\n",
       "      <td>546</td>\n",
       "      <td>200</td>\n",
       "    </tr>\n",
       "    <tr>\n",
       "      <th>2</th>\n",
       "      <td>North</td>\n",
       "      <td>453</td>\n",
       "      <td>90</td>\n",
       "    </tr>\n",
       "    <tr>\n",
       "      <th>3</th>\n",
       "      <td>South</td>\n",
       "      <td>456</td>\n",
       "      <td>78</td>\n",
       "    </tr>\n",
       "  </tbody>\n",
       "</table>\n",
       "</div>"
      ],
      "text/plain": [
       "  Region  Sales  Profit\n",
       "0   West    345     120\n",
       "1   East    546     200\n",
       "2  North    453      90\n",
       "3  South    456      78"
      ]
     },
     "execution_count": 14,
     "metadata": {},
     "output_type": "execute_result"
    }
   ],
   "source": [
    "import pandas as pd\n",
    "\n",
    "table = pd.DataFrame(data)\n",
    "table"
   ]
  },
  {
   "cell_type": "code",
   "execution_count": 15,
   "id": "679b95ab-a95a-42f2-a059-c31a6f4d09d6",
   "metadata": {},
   "outputs": [],
   "source": [
    "# salary = 56789\n",
    "\n",
    "# >= 50: manager\n",
    "# >= 30: Jr manager\n",
    "# >= 20: Executive\n",
    "# Intern"
   ]
  },
  {
   "cell_type": "code",
   "execution_count": 16,
   "id": "c0fede5f-a086-4f06-9151-f73ff13a3dff",
   "metadata": {},
   "outputs": [
    {
     "name": "stdout",
     "output_type": "stream",
     "text": [
      "Executive\n"
     ]
    }
   ],
   "source": [
    "salary = 27800\n",
    "if salary >= 50000:\n",
    "  print('Manager')\n",
    "elif salary >= 30000:\n",
    "  print('Jr Manager')\n",
    "elif salary >= 20000:\n",
    "  print('Executive')\n",
    "else:\n",
    "  print('Intern')"
   ]
  },
  {
   "cell_type": "code",
   "execution_count": 17,
   "id": "d9373bae-e96f-41f5-b7fa-0deb0ad67ce2",
   "metadata": {},
   "outputs": [
    {
     "name": "stdout",
     "output_type": "stream",
     "text": [
      "27800\n"
     ]
    }
   ],
   "source": [
    "import numpy as np\n",
    "database_salary = np.random.randint(10000,60000,5)\n",
    "print(salary)"
   ]
  },
  {
   "cell_type": "code",
   "execution_count": 18,
   "id": "bf3d408c-2bc0-4ada-b821-d97754645036",
   "metadata": {},
   "outputs": [
    {
     "name": "stdout",
     "output_type": "stream",
     "text": [
      "36217 Jr Manager\n",
      "22233 Executive\n",
      "50785 Manager\n",
      "46169 Jr Manager\n",
      "12410 Intern\n"
     ]
    }
   ],
   "source": [
    "for i in database_salary:\n",
    "  salary = i\n",
    "  if salary >= 50000:\n",
    "    print(i, 'Manager')\n",
    "  elif salary >= 30000:\n",
    "    print(i, 'Jr Manager')\n",
    "  elif salary >= 20000:\n",
    "    print(i, 'Executive')\n",
    "  else:\n",
    "    print(i, 'Intern')"
   ]
  },
  {
   "cell_type": "code",
   "execution_count": 19,
   "id": "c54a623c-f5cf-44fa-95cc-08eb95b42de7",
   "metadata": {},
   "outputs": [],
   "source": [
    "# import random\n",
    "# comp_choice = random.randint(1,10)\n",
    "# user_choice = int(input('Enter your Choice(1-10): '))\n",
    "\n",
    "# print(f'''\n",
    "# User choice: {user_choice}\n",
    "# Computer Choice: {comp_choice}''')\n",
    "\n",
    "# if user_choice == comp_choice:\n",
    "#   print('User Won, Comp Lose!!')\n",
    "# else:\n",
    "#   print('Better Luck next time!!')"
   ]
  },
  {
   "cell_type": "code",
   "execution_count": 20,
   "id": "dc55c750-8041-4a72-ae20-151ecf88bfe7",
   "metadata": {},
   "outputs": [
    {
     "name": "stdin",
     "output_type": "stream",
     "text": [
      "Enter your Choice(1-10):  1\n"
     ]
    },
    {
     "name": "stdout",
     "output_type": "stream",
     "text": [
      "\n",
      "  User choice: 1\n",
      "  Computer Choice: 1\n",
      "User Won, Comp Lose!!\n"
     ]
    },
    {
     "name": "stdin",
     "output_type": "stream",
     "text": [
      "Enter your Choice(1-10):  4\n"
     ]
    },
    {
     "name": "stdout",
     "output_type": "stream",
     "text": [
      "\n",
      "  User choice: 4\n",
      "  Computer Choice: 7\n",
      "Better Luck next time!!\n"
     ]
    },
    {
     "name": "stdin",
     "output_type": "stream",
     "text": [
      "Enter your Choice(1-10):  2\n"
     ]
    },
    {
     "name": "stdout",
     "output_type": "stream",
     "text": [
      "\n",
      "  User choice: 2\n",
      "  Computer Choice: 9\n",
      "Better Luck next time!!\n"
     ]
    }
   ],
   "source": [
    "user_attempts = 3\n",
    "import random\n",
    "for i in range(user_attempts):\n",
    "  comp_choice = random.randint(1,10)\n",
    "  user_choice = int(input('Enter your Choice(1-10): '))\n",
    "\n",
    "  print(f'''\n",
    "  User choice: {user_choice}\n",
    "  Computer Choice: {comp_choice}''')\n",
    "\n",
    "  if user_choice == comp_choice:\n",
    "    print('User Won, Comp Lose!!')\n",
    "  else:\n",
    "    print('Better Luck next time!!')"
   ]
  },
  {
   "cell_type": "code",
   "execution_count": 21,
   "id": "1474d77c-e95f-4c88-a092-f20c42e36d69",
   "metadata": {},
   "outputs": [],
   "source": [
    "# Questions[1]"
   ]
  },
  {
   "cell_type": "code",
   "execution_count": 22,
   "id": "4103a82d-fba9-457e-813a-43041b27a342",
   "metadata": {},
   "outputs": [
    {
     "name": "stdout",
     "output_type": "stream",
     "text": [
      "Question 1:  What is the capital of Australia?\n",
      "A) Sydney\n",
      "B) Melbourne\n",
      "C) Canberra\n",
      "D) Perth\n"
     ]
    },
    {
     "name": "stdin",
     "output_type": "stream",
     "text": [
      "Enter your choice:  d\n"
     ]
    },
    {
     "name": "stdout",
     "output_type": "stream",
     "text": [
      "Better luck next time!!\n",
      "Total Amount 0\n"
     ]
    }
   ],
   "source": [
    "Questions = {1:'What is the capital of Australia?',\n",
    "             2:'Who invented the telephone?',\n",
    "             3:'Which planet is known as the Red Planet?',\n",
    "             4:'In which year did India gain independence?',\n",
    "             5:'What is the largest organ in the human body?'}\n",
    "\n",
    "options = {1:'''A) Sydney\n",
    "B) Melbourne\n",
    "C) Canberra\n",
    "D) Perth''',\n",
    "           2:'''A) Albert Einstein\n",
    "B) Isaac Newton\n",
    "C) Alexander Graham Bell\n",
    "D) Thomas Edison''',\n",
    "           3:'''A) Earth\n",
    "B) Venus\n",
    "C) Jupiter\n",
    "D) Mars''',\n",
    "           4:'''A) 1945\n",
    "B) 1946\n",
    "C) 1947\n",
    "D) 1950''',\n",
    "           5:'''A) Liver\n",
    "B) Brain\n",
    "C) Skin\n",
    "D) Heart'''}\n",
    "\n",
    "win_ammount = 0\n",
    "\n",
    "correct_op = ['C','C','D','C','C']\n",
    "\n",
    "for i in range(1,len(Questions)+1):\n",
    "  print(f'Question {i}: ',Questions[i])\n",
    "  print(options[i])\n",
    "  user_choice = input('Enter your choice: ').upper()\n",
    "\n",
    "  correct_ans = correct_op[i-1]\n",
    "  # print(correct_ans)\n",
    "  if user_choice == correct_ans:\n",
    "    win_ammount += 10000\n",
    "    print('Correct Answer!!')\n",
    "    print(end = '\\n'*3)\n",
    "\n",
    "  else:\n",
    "    print('Better luck next time!!')\n",
    "    break\n",
    "\n",
    "\n",
    "print('Total Amount',win_ammount)"
   ]
  },
  {
   "cell_type": "code",
   "execution_count": 23,
   "id": "0b913b20-0570-4a3e-8200-6280098e83ac",
   "metadata": {},
   "outputs": [],
   "source": [
    "def say_hello(name):\n",
    "  print(f'Hello {name},','how are you??')"
   ]
  },
  {
   "cell_type": "code",
   "execution_count": 24,
   "id": "6c72b6e1-b507-485f-8b52-bd6bb3807b63",
   "metadata": {},
   "outputs": [
    {
     "name": "stdout",
     "output_type": "stream",
     "text": [
      "Hello anjali, how are you??\n"
     ]
    }
   ],
   "source": [
    "say_hello('anjali')"
   ]
  },
  {
   "cell_type": "code",
   "execution_count": 25,
   "id": "6794f845-8e11-4dfe-9338-2add9fc3549c",
   "metadata": {},
   "outputs": [
    {
     "name": "stdout",
     "output_type": "stream",
     "text": [
      "Requirement already satisfied: gTTS in c:\\users\\anjali\\anaconda3\\lib\\site-packages (2.5.4)\n",
      "Requirement already satisfied: requests<3,>=2.27 in c:\\users\\anjali\\anaconda3\\lib\\site-packages (from gTTS) (2.32.3)\n",
      "Requirement already satisfied: click<8.2,>=7.1 in c:\\users\\anjali\\anaconda3\\lib\\site-packages (from gTTS) (8.1.8)\n",
      "Requirement already satisfied: colorama in c:\\users\\anjali\\anaconda3\\lib\\site-packages (from click<8.2,>=7.1->gTTS) (0.4.6)\n",
      "Requirement already satisfied: charset-normalizer<4,>=2 in c:\\users\\anjali\\anaconda3\\lib\\site-packages (from requests<3,>=2.27->gTTS) (3.3.2)\n",
      "Requirement already satisfied: idna<4,>=2.5 in c:\\users\\anjali\\anaconda3\\lib\\site-packages (from requests<3,>=2.27->gTTS) (3.7)\n",
      "Requirement already satisfied: urllib3<3,>=1.21.1 in c:\\users\\anjali\\anaconda3\\lib\\site-packages (from requests<3,>=2.27->gTTS) (2.5.0)\n",
      "Requirement already satisfied: certifi>=2017.4.17 in c:\\users\\anjali\\anaconda3\\lib\\site-packages (from requests<3,>=2.27->gTTS) (2025.6.15)\n",
      "Note: you may need to restart the kernel to use updated packages.\n"
     ]
    }
   ],
   "source": [
    "# pip install gTTS"
   ]
  },
  {
   "cell_type": "code",
   "execution_count": 27,
   "id": "dcf19bdb-4c43-46d2-b47b-325c5d10e30d",
   "metadata": {},
   "outputs": [],
   "source": [
    "def sound_box(paisa,platform = 'Paytm'):\n",
    "    from gtts import gTTS\n",
    "    text  = f'''{platform} par {paisa} rs Prapt hue.'''\n",
    "    audio = gTTS(text)\n",
    "    audio.save('paytm.mp3')\n",
    "\n",
    "    import pygame as p\n",
    "    p.init()\n",
    "\n",
    "    music = p.mixer.Sound('paytm.mp3')\n",
    "    music.play()"
   ]
  },
  {
   "cell_type": "code",
   "execution_count": 29,
   "id": "32852c05-0924-462b-adfb-b40d405756d5",
   "metadata": {},
   "outputs": [
    {
     "name": "stdout",
     "output_type": "stream",
     "text": [
      "pygame 2.6.1 (SDL 2.28.4, Python 3.13.5)\n",
      "Hello from the pygame community. https://www.pygame.org/contribute.html\n"
     ]
    }
   ],
   "source": [
    "sound_box(500,platform = 'Paytm')"
   ]
  },
  {
   "cell_type": "code",
   "execution_count": null,
   "id": "5c004088-c7a6-404d-8829-b5ad669c0e90",
   "metadata": {},
   "outputs": [],
   "source": []
  },
  {
   "cell_type": "code",
   "execution_count": null,
   "id": "d0411213-7893-4c7d-b83e-9674a54d4b8d",
   "metadata": {},
   "outputs": [],
   "source": []
  }
 ],
 "metadata": {
  "kernelspec": {
   "display_name": "Python [conda env:base] *",
   "language": "python",
   "name": "conda-base-py"
  },
  "language_info": {
   "codemirror_mode": {
    "name": "ipython",
    "version": 3
   },
   "file_extension": ".py",
   "mimetype": "text/x-python",
   "name": "python",
   "nbconvert_exporter": "python",
   "pygments_lexer": "ipython3",
   "version": "3.13.5"
  }
 },
 "nbformat": 4,
 "nbformat_minor": 5
}
