{
 "cells": [
  {
   "cell_type": "markdown",
   "id": "25dc0537-c758-4ec8-b903-f3fb397f0121",
   "metadata": {},
   "source": [
    "# TEST"
   ]
  },
  {
   "cell_type": "code",
   "execution_count": 7,
   "id": "16f40ea9-8efe-425f-b67c-f40e00c9ac6b",
   "metadata": {},
   "outputs": [],
   "source": [
    "#SectionsA"
   ]
  },
  {
   "cell_type": "markdown",
   "id": "de579fbf-37b0-4704-a27e-ef4c09a8a969",
   "metadata": {},
   "source": [
    "# A1"
   ]
  },
  {
   "cell_type": "code",
   "execution_count": 3,
   "id": "4cd4435d-f99e-42bf-ac09-f5d95c4eb004",
   "metadata": {},
   "outputs": [],
   "source": [
    "\n",
    "# list is a hetrogenous data type in which same type of data is stored\n",
    "# list can be appended with some methods \n",
    "# tuple is a homogenous data type in which different types of data is stored"
   ]
  },
  {
   "cell_type": "code",
   "execution_count": 4,
   "id": "5e1566d3-7ede-44f9-a82d-df027c67c5d7",
   "metadata": {},
   "outputs": [
    {
     "data": {
      "text/plain": [
       "[1, 'anjali', 2, 3, 4]"
      ]
     },
     "execution_count": 4,
     "metadata": {},
     "output_type": "execute_result"
    }
   ],
   "source": [
    "a=[1,'anjali',2,3,4]\n",
    "a # a is a list"
   ]
  },
  {
   "cell_type": "code",
   "execution_count": 6,
   "id": "480624e9-c609-4247-94cc-af82f5710fec",
   "metadata": {},
   "outputs": [
    {
     "data": {
      "text/plain": [
       "(10, 20, 30, 'anjali')"
      ]
     },
     "execution_count": 6,
     "metadata": {},
     "output_type": "execute_result"
    }
   ],
   "source": [
    "b=(10,20,30,'anjali')\n",
    "b"
   ]
  },
  {
   "cell_type": "markdown",
   "id": "cf22d67c-c102-4ad3-8254-f3bd6207fa45",
   "metadata": {},
   "source": [
    "# A2"
   ]
  },
  {
   "cell_type": "code",
   "execution_count": 8,
   "id": "42043727-089b-4014-908f-d65a2f054745",
   "metadata": {},
   "outputs": [],
   "source": [
    "# input(): funtions is used to take input from the user. Its is a built-in funtion provided by python\n",
    "# It returns string data type\n",
    "# To change it into int data type we use the syntax:\n",
    "# int(input('enter your id'))\n",
    "# it will return int data type"
   ]
  },
  {
   "cell_type": "markdown",
   "id": "808d56b9-c3f8-47bc-b6f7-0a67ed588c3a",
   "metadata": {},
   "source": [
    "# A3"
   ]
  },
  {
   "cell_type": "code",
   "execution_count": 9,
   "id": "376dbc4e-ab42-42b6-b628-7e14b0156b51",
   "metadata": {},
   "outputs": [],
   "source": [
    "# Dictonaries are used to store data in the format of key and value"
   ]
  },
  {
   "cell_type": "code",
   "execution_count": 10,
   "id": "1aeea9f0-6d58-4b89-8bde-9daa15b3a367",
   "metadata": {},
   "outputs": [
    {
     "data": {
      "text/plain": [
       "{'name': ['abc', 'bds', 'gbf'], 'id': [20, 30, 40]}"
      ]
     },
     "execution_count": 10,
     "metadata": {},
     "output_type": "execute_result"
    }
   ],
   "source": [
    "data={'name':['abc','bds','gbf'],\n",
    "      'id':[20,30,40]}\n",
    "data"
   ]
  },
  {
   "cell_type": "markdown",
   "id": "03fb8c42-83df-4206-9f72-195e38cca016",
   "metadata": {},
   "source": [
    "# A4"
   ]
  },
  {
   "cell_type": "code",
   "execution_count": 12,
   "id": "5f99f7a9-4333-4026-9f97-8b47f11f3687",
   "metadata": {},
   "outputs": [],
   "source": [
    "# for loop : it is used to print data in an iterative mode\n",
    "# It is also used for code reusability "
   ]
  },
  {
   "cell_type": "code",
   "execution_count": 18,
   "id": "ae6a0743-27a0-478a-ba65-e9d7b5806d46",
   "metadata": {},
   "outputs": [
    {
     "name": "stdout",
     "output_type": "stream",
     "text": [
      "0\n",
      "1\n",
      "2\n",
      "3\n",
      "4\n",
      "5\n"
     ]
    }
   ],
   "source": [
    "for i in range(6):\n",
    "    print(i)"
   ]
  },
  {
   "cell_type": "markdown",
   "id": "1bc842e4-c56d-4f37-a334-0f39d4aaf931",
   "metadata": {},
   "source": [
    "# A5"
   ]
  },
  {
   "cell_type": "code",
   "execution_count": 19,
   "id": "f620ef92-b79e-422b-913a-424c4e24a609",
   "metadata": {},
   "outputs": [],
   "source": [
    "# Exception handling: to handle errors in the code \n",
    "# try: \n",
    "# except: if the code throws an error the code jumps to the except block to check the next step \n",
    "# finally: "
   ]
  },
  {
   "cell_type": "markdown",
   "id": "d6adc49d-bdeb-432f-b2d8-b709b3630bb5",
   "metadata": {},
   "source": [
    "# A6"
   ]
  },
  {
   "cell_type": "code",
   "execution_count": 21,
   "id": "b98d782a-aca3-49d3-b8db-7e0de16ec54b",
   "metadata": {},
   "outputs": [],
   "source": [
    "# Modules: collections of functions and instances"
   ]
  },
  {
   "cell_type": "code",
   "execution_count": 22,
   "id": "332f6a5f-dc1f-4907-98d1-a68b1a94d97b",
   "metadata": {},
   "outputs": [],
   "source": [
    "# import math: it means we are importing all the functions that are in the module \n",
    "# from math import sqrt: it means we are specifically importing the function 'sqrt' from the module math"
   ]
  },
  {
   "cell_type": "markdown",
   "id": "7838e45c-7221-465c-80e2-86a6df5578b2",
   "metadata": {},
   "source": [
    "# A7"
   ]
  },
  {
   "cell_type": "code",
   "execution_count": null,
   "id": "728eec6a-82db-4ea0-ba5e-0961db0d1581",
   "metadata": {},
   "outputs": [],
   "source": [
    "# OOPs: programming done on the basis of class and objects\n",
    "# creating containers like class and performing funtions and methods in them\n",
    "# class: blueprint or a structure of an object\n",
    "#object: an instance "
   ]
  },
  {
   "cell_type": "code",
   "execution_count": 28,
   "id": "f97b8935-5186-4c54-b7a5-3372582b86d1",
   "metadata": {},
   "outputs": [],
   "source": [
    "class Car: # creation of class\n",
    "    def colour(): #creating method \n",
    "        print('the colour is yellow')\n",
    "\n",
    "audi=Car() #object creation "
   ]
  },
  {
   "cell_type": "markdown",
   "id": "cb076c73-3602-4165-8742-a4358625e090",
   "metadata": {},
   "source": [
    "# A8"
   ]
  },
  {
   "cell_type": "code",
   "execution_count": null,
   "id": "a2dff41d-2cfa-4241-95d5-445967689072",
   "metadata": {},
   "outputs": [],
   "source": []
  },
  {
   "cell_type": "code",
   "execution_count": null,
   "id": "bf77cdb5-6980-471e-9ecb-61a8556b8798",
   "metadata": {},
   "outputs": [],
   "source": []
  },
  {
   "cell_type": "markdown",
   "id": "7ca0c6c8-d0a1-4099-9aae-998cfccfe6dc",
   "metadata": {},
   "source": [
    "# A9"
   ]
  },
  {
   "cell_type": "code",
   "execution_count": 32,
   "id": "157a0c16-0c9f-4392-874c-01409d7918b1",
   "metadata": {},
   "outputs": [
    {
     "name": "stdin",
     "output_type": "stream",
     "text": [
      "enter the radius 5\n"
     ]
    },
    {
     "data": {
      "text/plain": [
       "78.5"
      ]
     },
     "execution_count": 32,
     "metadata": {},
     "output_type": "execute_result"
    }
   ],
   "source": [
    "def Calculate_area():\n",
    "    radius=int(input('enter the radius'))\n",
    "    pi=3.14\n",
    "    area=pi*(radius*radius)\n",
    "    return area\n",
    "\n",
    "Calculate_area()"
   ]
  },
  {
   "cell_type": "markdown",
   "id": "a9d4321a-ded6-4ef0-99b6-da9eb7258369",
   "metadata": {},
   "source": [
    "# A10"
   ]
  },
  {
   "cell_type": "code",
   "execution_count": 33,
   "id": "18214d05-e3de-4567-a8c5-d96106c36139",
   "metadata": {},
   "outputs": [
    {
     "name": "stdin",
     "output_type": "stream",
     "text": [
      "enter your name anjali\n",
      "enter your age 19\n"
     ]
    },
    {
     "name": "stdout",
     "output_type": "stream",
     "text": [
      "Hello anjali, you are 19 years old!!\n"
     ]
    }
   ],
   "source": [
    "name=input('enter your name')\n",
    "age=int(input('enter your age'))\n",
    "def intro():\n",
    "    print(f'Hello {name}, you are {age} years old!!')\n",
    "\n",
    "intro()    "
   ]
  },
  {
   "cell_type": "markdown",
   "id": "649d966c-a349-42b3-8177-fe29f63d0e88",
   "metadata": {},
   "source": [
    "# A11"
   ]
  },
  {
   "cell_type": "code",
   "execution_count": 39,
   "id": "3bdc6c15-d142-4b72-903a-1493239f7050",
   "metadata": {},
   "outputs": [
    {
     "name": "stdout",
     "output_type": "stream",
     "text": [
      "(0, 'mango')\n",
      "(1, 'banana')\n",
      "(2, 'apple')\n",
      "(3, 'grapes')\n",
      "(4, 'kiwi')\n"
     ]
    }
   ],
   "source": [
    "list=['mango','banana','apple','grapes','kiwi']\n",
    "\n",
    "for i in enumerate(list,0):\n",
    "    print(i)"
   ]
  },
  {
   "cell_type": "markdown",
   "id": "a8e32a16-6e99-4a00-aa17-26608af9cf3d",
   "metadata": {},
   "source": [
    "# A12"
   ]
  },
  {
   "cell_type": "code",
   "execution_count": 74,
   "id": "9474badb-4d35-49a1-894b-c5f0c70b3498",
   "metadata": {},
   "outputs": [
    {
     "name": "stdin",
     "output_type": "stream",
     "text": [
      "enter your marks(0-100) 78\n"
     ]
    },
    {
     "name": "stdout",
     "output_type": "stream",
     "text": [
      "D\n"
     ]
    }
   ],
   "source": [
    "def grade_calculator():\n",
    "    std_score=int(input('enter your marks(0-100)'))\n",
    "    if 90<=std_score>=100:\n",
    "        print('A')\n",
    "    elif 80<=std_score>=89:\n",
    "        print('B')\n",
    "    elif 70<=std_score>=79:\n",
    "        print('C')\n",
    "    elif 60<=std_score>=69:\n",
    "        print('D')\n",
    "    else:\n",
    "        print('Fail')\n",
    "\n",
    "grade_calculator()"
   ]
  },
  {
   "cell_type": "code",
   "execution_count": 75,
   "id": "fff5a58a-7fe8-44a5-a4ab-20068921cf12",
   "metadata": {},
   "outputs": [
    {
     "name": "stdin",
     "output_type": "stream",
     "text": [
      "enter your marks(0-100) 89\n"
     ]
    },
    {
     "name": "stdout",
     "output_type": "stream",
     "text": [
      "B\n"
     ]
    }
   ],
   "source": [
    "grade_calculator()"
   ]
  },
  {
   "cell_type": "code",
   "execution_count": 76,
   "id": "5917201f-5a03-4755-ad12-d7168858a2d0",
   "metadata": {},
   "outputs": [
    {
     "name": "stdin",
     "output_type": "stream",
     "text": [
      "enter your marks(0-100) 43\n"
     ]
    },
    {
     "name": "stdout",
     "output_type": "stream",
     "text": [
      "Fail\n"
     ]
    }
   ],
   "source": [
    "grade_calculator()"
   ]
  },
  {
   "cell_type": "markdown",
   "id": "2efe78e5-08b1-41e2-9e7f-bb09c598d79f",
   "metadata": {},
   "source": [
    "# A13"
   ]
  },
  {
   "cell_type": "code",
   "execution_count": null,
   "id": "33af9c30-975d-411b-aa3a-49737254cbd8",
   "metadata": {},
   "outputs": [],
   "source": []
  },
  {
   "cell_type": "markdown",
   "id": "c0f9fd62-27e4-4653-a804-e464e328ce4a",
   "metadata": {},
   "source": [
    "# A14"
   ]
  },
  {
   "cell_type": "code",
   "execution_count": 62,
   "id": "68b8d4da-7a0f-4610-9800-cb301cd0a99b",
   "metadata": {},
   "outputs": [],
   "source": [
    "class BankAcct:\n",
    "    def __init__(self):\n",
    "        Acct_holder='ABC'\n",
    "        starting_balance=5000\n",
    "    def deposit_money(self):\n",
    "        print('Money deposited')\n",
    "    def withdraw_money(self):\n",
    "        starting_balance=5000\n",
    "        withdraw_money=int(input('money to be withdrawn'))\n",
    "        if starting_balance>=withdraw_money:\n",
    "            print('can withrow money')\n",
    "        else:\n",
    "            print( 'cannot withdraw money')\n",
    "    def current_balance(self):\n",
    "        print(f'current balance is {starting_balance}')\n",
    "\n",
    "axis=BankAcct()"
   ]
  },
  {
   "cell_type": "code",
   "execution_count": 63,
   "id": "27d81a63-6abb-46bc-a74f-bcb2f29fad49",
   "metadata": {},
   "outputs": [
    {
     "name": "stdin",
     "output_type": "stream",
     "text": [
      "money to be withdrawn 6000\n"
     ]
    },
    {
     "name": "stdout",
     "output_type": "stream",
     "text": [
      "cannot withdraw money\n"
     ]
    }
   ],
   "source": [
    "axis.withdraw_money()"
   ]
  },
  {
   "cell_type": "markdown",
   "id": "2ccf7d1a-2d3c-40ac-b804-5077eec9970a",
   "metadata": {},
   "source": [
    "# A15"
   ]
  },
  {
   "cell_type": "code",
   "execution_count": 70,
   "id": "f3f8d0c5-e21e-4ffb-816e-45063905909e",
   "metadata": {},
   "outputs": [
    {
     "name": "stdout",
     "output_type": "stream",
     "text": [
      "0 it is not a prime number\n",
      "1 it is a prime number\n",
      "2 it is not a prime number\n",
      "3 it is a prime number\n",
      "4 it is not a prime number\n",
      "5 it is a prime number\n",
      "6 it is not a prime number\n",
      "7 it is a prime number\n",
      "8 it is not a prime number\n",
      "9 it is a prime number\n",
      "10 it is not a prime number\n",
      "11 it is a prime number\n",
      "12 it is not a prime number\n",
      "13 it is a prime number\n",
      "14 it is not a prime number\n",
      "15 it is a prime number\n",
      "16 it is not a prime number\n",
      "17 it is a prime number\n",
      "18 it is not a prime number\n",
      "19 it is a prime number\n",
      "20 it is not a prime number\n",
      "21 it is a prime number\n",
      "22 it is not a prime number\n",
      "23 it is a prime number\n",
      "24 it is not a prime number\n",
      "25 it is a prime number\n",
      "26 it is not a prime number\n",
      "27 it is a prime number\n",
      "28 it is not a prime number\n",
      "29 it is a prime number\n",
      "30 it is not a prime number\n",
      "31 it is a prime number\n",
      "32 it is not a prime number\n",
      "33 it is a prime number\n",
      "34 it is not a prime number\n",
      "35 it is a prime number\n",
      "36 it is not a prime number\n",
      "37 it is a prime number\n",
      "38 it is not a prime number\n",
      "39 it is a prime number\n",
      "40 it is not a prime number\n",
      "41 it is a prime number\n",
      "42 it is not a prime number\n",
      "43 it is a prime number\n",
      "44 it is not a prime number\n",
      "45 it is a prime number\n",
      "46 it is not a prime number\n",
      "47 it is a prime number\n",
      "48 it is not a prime number\n",
      "49 it is a prime number\n",
      "50 it is not a prime number\n",
      "51 it is a prime number\n",
      "52 it is not a prime number\n",
      "53 it is a prime number\n",
      "54 it is not a prime number\n",
      "55 it is a prime number\n",
      "56 it is not a prime number\n",
      "57 it is a prime number\n",
      "58 it is not a prime number\n",
      "59 it is a prime number\n",
      "60 it is not a prime number\n"
     ]
    }
   ],
   "source": [
    "def Prime_number():\n",
    "    for i in range(61):\n",
    "        if i%2==0:\n",
    "            print(i,'it is not a prime number')\n",
    "        else:\n",
    "            print(i,'it is a prime number')\n",
    "    \n",
    "Prime_number()"
   ]
  },
  {
   "cell_type": "code",
   "execution_count": null,
   "id": "6a12febf-8731-47d9-a564-792cc9cc0eeb",
   "metadata": {},
   "outputs": [],
   "source": []
  }
 ],
 "metadata": {
  "kernelspec": {
   "display_name": "Python [conda env:base] *",
   "language": "python",
   "name": "conda-base-py"
  },
  "language_info": {
   "codemirror_mode": {
    "name": "ipython",
    "version": 3
   },
   "file_extension": ".py",
   "mimetype": "text/x-python",
   "name": "python",
   "nbconvert_exporter": "python",
   "pygments_lexer": "ipython3",
   "version": "3.13.5"
  }
 },
 "nbformat": 4,
 "nbformat_minor": 5
}
