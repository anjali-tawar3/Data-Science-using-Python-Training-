{
 "cells": [
  {
   "cell_type": "markdown",
   "id": "1f9f735d-e1eb-4d89-a55d-4d23d37d2720",
   "metadata": {},
   "source": [
    "# Inheritance"
   ]
  },
  {
   "cell_type": "code",
   "execution_count": 1,
   "id": "8bbfa5fe-c89e-4169-a298-e17789f7155f",
   "metadata": {},
   "outputs": [],
   "source": [
    "# Simple interitance(single)"
   ]
  },
  {
   "cell_type": "code",
   "execution_count": 2,
   "id": "66f5940f-ad52-4e3b-b45e-cdb22df7f2e5",
   "metadata": {},
   "outputs": [],
   "source": [
    "class BMW:\n",
    "    \n",
    "    def super_turbo_engine(self):\n",
    "        print('super_tubro_engine Fast Speed')\n",
    "class Audi:\n",
    "    \n",
    "    def auto_pilot(self):\n",
    "        print('Can run on Auto Pilot Mode!!')\n",
    "    "
   ]
  },
  {
   "cell_type": "code",
   "execution_count": 3,
   "id": "195fb29f-d792-489e-bfd3-9d5b50b93688",
   "metadata": {},
   "outputs": [],
   "source": [
    "audi_r8=Audi()"
   ]
  },
  {
   "cell_type": "code",
   "execution_count": 4,
   "id": "9d5a2523-5de8-48e5-9b8c-9013617eac29",
   "metadata": {},
   "outputs": [
    {
     "name": "stdout",
     "output_type": "stream",
     "text": [
      "Can run on Auto Pilot Mode!!\n"
     ]
    }
   ],
   "source": [
    "audi_r8.auto_pilot() # CLASS BMW CANNOT INTERIT FUNCTION OF Audi"
   ]
  },
  {
   "cell_type": "code",
   "execution_count": 5,
   "id": "39cbf251-252b-4eb1-8945-3e641bdd7f27",
   "metadata": {},
   "outputs": [],
   "source": [
    "class BMW: #parent class/super class/ main class/ base class\n",
    "    \n",
    "    def super_turbo_engine(self):\n",
    "        print('super_tubro_engine Fast Speed')\n",
    "class Audi(BMW): #child class/sub class\n",
    "    \n",
    "    def auto_pilot(self):\n",
    "        print('Can run on Auto Pilot Mode!!')"
   ]
  },
  {
   "cell_type": "code",
   "execution_count": 6,
   "id": "a605c120-d52e-48d8-a836-56ceef0db7dd",
   "metadata": {},
   "outputs": [],
   "source": [
    "audi_r8=Audi()"
   ]
  },
  {
   "cell_type": "code",
   "execution_count": 7,
   "id": "6780a63d-7d48-40ec-8742-2815c19d0b43",
   "metadata": {},
   "outputs": [
    {
     "name": "stdout",
     "output_type": "stream",
     "text": [
      "super_tubro_engine Fast Speed\n"
     ]
    }
   ],
   "source": [
    "audi_r8.super_turbo_engine() # after using single inheritance class BMW can use method of Class Audi"
   ]
  },
  {
   "cell_type": "code",
   "execution_count": 8,
   "id": "8c6bc7ef-993c-4785-97ed-118eea0e185f",
   "metadata": {},
   "outputs": [],
   "source": [
    "# Multiple Inheritance( most used) "
   ]
  },
  {
   "cell_type": "code",
   "execution_count": 25,
   "id": "1639975b-0afa-4023-b756-de69a755d66e",
   "metadata": {},
   "outputs": [],
   "source": [
    "class Daily_Object:\n",
    "\n",
    "    def phone_case(self):\n",
    "        print('Strong Build Phone Case!')\n",
    "        \n",
    "class JBL:\n",
    "\n",
    "    def sonic_speakers(self):\n",
    "        print('High Qaulity Sound Speaker!')\n",
    "        \n",
    "class Samsung:\n",
    "    def screen_displau(self):\n",
    "        print('4k HD display')\n",
    "\n",
    "class Nvidia:\n",
    "    def motherboard(self):\n",
    "        print('Fast Motherboard')\n",
    "\n",
    "class Sony:\n",
    "    def camera(self):\n",
    "        print('4k camera')\n",
    "\n",
    "class Lava:\n",
    "    def charger(self):\n",
    "        print(' lava SuperFast Charger')\n",
    "\n",
    "class one_plus:\n",
    "    def charger(self):\n",
    "        print('superfast charger')\n",
    "    \n",
    "class Mobile(Daily_Object,JBL,Samsung,Nvidia,Sony,Lava,one_plus):\n",
    "    def __int__(self):\n",
    "        print('Phone Object Created Successfully')\n",
    "\n",
    "    def charger(self):\n",
    "        print('actual Charger')"
   ]
  },
  {
   "cell_type": "code",
   "execution_count": 26,
   "id": "5edcbbe0-3714-40a7-9180-eddbe7f39b06",
   "metadata": {},
   "outputs": [],
   "source": [
    "nothing=Mobile()"
   ]
  },
  {
   "cell_type": "code",
   "execution_count": 27,
   "id": "3e5bca07-0def-45c6-9b40-d6cc7725b25a",
   "metadata": {},
   "outputs": [
    {
     "name": "stdout",
     "output_type": "stream",
     "text": [
      "actual Charger\n"
     ]
    }
   ],
   "source": [
    "nothing.charger()"
   ]
  },
  {
   "cell_type": "code",
   "execution_count": 29,
   "id": "f2b78c43-f666-4d1c-9515-c5678bd4a072",
   "metadata": {},
   "outputs": [],
   "source": [
    "# Multi-Level Inhertiance"
   ]
  },
  {
   "cell_type": "code",
   "execution_count": 33,
   "id": "5ac5ad47-6528-47a7-92b3-f64061015ee0",
   "metadata": {},
   "outputs": [],
   "source": [
    "class Grandfather:\n",
    "    def land(self):\n",
    "        print('Land Property')\n",
    "\n",
    "class Father(Grandfather):\n",
    "    def bank_balance(self):\n",
    "        print('Big Money PLayer, Huge Bank Balance')\n",
    "\n",
    "class Son(Father):\n",
    "    def Political_power(self):\n",
    "        print('political Powers')\n",
    "\n",
    "class Grandson(Son):\n",
    "    def mind(self):\n",
    "        print('Mind for study')\n",
    "\n",
    "class Friend(Grandson):\n",
    "    def __init__(self):\n",
    "        print('nothing')"
   ]
  },
  {
   "cell_type": "code",
   "execution_count": 34,
   "id": "f06219cc-8476-4ac2-a5be-1f2cd96ffbab",
   "metadata": {},
   "outputs": [],
   "source": [
    "Hriday=Grandson()"
   ]
  },
  {
   "cell_type": "code",
   "execution_count": 35,
   "id": "cf8e3123-b577-456d-a180-3467e84e53ea",
   "metadata": {},
   "outputs": [
    {
     "name": "stdout",
     "output_type": "stream",
     "text": [
      "Land Property\n"
     ]
    }
   ],
   "source": [
    "Hriday.land()"
   ]
  },
  {
   "cell_type": "code",
   "execution_count": 36,
   "id": "478b703f-5c33-4060-9875-43a42464666d",
   "metadata": {},
   "outputs": [
    {
     "name": "stdout",
     "output_type": "stream",
     "text": [
      "nothing\n"
     ]
    }
   ],
   "source": [
    "zoya=Friend()"
   ]
  },
  {
   "cell_type": "code",
   "execution_count": 37,
   "id": "f8cf68f9-c640-4303-a179-7b997e8103a2",
   "metadata": {},
   "outputs": [
    {
     "name": "stdout",
     "output_type": "stream",
     "text": [
      "political Powers\n"
     ]
    }
   ],
   "source": [
    "zoya.Political_power()"
   ]
  },
  {
   "cell_type": "code",
   "execution_count": 38,
   "id": "02e8ac22-e69a-485d-9370-6bde9a496a1b",
   "metadata": {},
   "outputs": [],
   "source": [
    "# Hybrid Inheritance"
   ]
  },
  {
   "cell_type": "code",
   "execution_count": 43,
   "id": "08761a2a-8d2a-405e-b50a-a3cb7ef9aea9",
   "metadata": {},
   "outputs": [],
   "source": [
    "class Hybrid_class(Mobile,Friend,Audi): # Mobile(Multiple), Friend(Mulit-level), Audi(Single)\n",
    "    def __init__(self):\n",
    "        print('This is a Hybrid class')\n",
    "    def info(self):\n",
    "        print('It can call any method!!')"
   ]
  },
  {
   "cell_type": "code",
   "execution_count": 44,
   "id": "c4b85a85-e0e0-4491-a4bd-1f036863d5a4",
   "metadata": {},
   "outputs": [
    {
     "name": "stdout",
     "output_type": "stream",
     "text": [
      "This is a Hybrid class\n"
     ]
    }
   ],
   "source": [
    "obj= Hybrid_class()"
   ]
  },
  {
   "cell_type": "code",
   "execution_count": 45,
   "id": "d5f6d00e-3097-4472-9100-f05fac89a125",
   "metadata": {},
   "outputs": [
    {
     "name": "stdout",
     "output_type": "stream",
     "text": [
      "Can run on Auto Pilot Mode!!\n"
     ]
    }
   ],
   "source": [
    "obj.auto_pilot()"
   ]
  },
  {
   "cell_type": "code",
   "execution_count": 48,
   "id": "2723e9c3-5f32-43f2-9d91-16f9adbbba25",
   "metadata": {
    "jupyter": {
     "source_hidden": true
    }
   },
   "outputs": [],
   "source": [
    "class UGC:\n",
    "    def __init__(self):\n",
    "        print('Grant Permission')\n",
    "\n",
    "    def college_approved(self):\n",
    "        print('College has been approved')\n",
    "        \n",
    "class DU(UGC):\n",
    "    def multiple_clg(self):\n",
    "        print('List of Colleges')\n",
    "\n",
    "class IP(UGC):\n",
    "    def multiple_clg(self):\n",
    "        print('List of Colleges')\n",
    "class DTU(UGC):\n",
    "    def multiple_clg(self):\n",
    "        print('List of Colleges')\n",
    "class BHU(UGC):\n",
    "    def multiple_clg(self):\n",
    "        print('List of Colleges')\n"
   ]
  },
  {
   "cell_type": "markdown",
   "id": "97b06417-742c-43f8-b48c-db96e13521dd",
   "metadata": {},
   "source": [
    "# Polymorphism"
   ]
  },
  {
   "cell_type": "code",
   "execution_count": 49,
   "id": "9f974c37-e6ae-403d-b063-daf5d18ee4a1",
   "metadata": {},
   "outputs": [],
   "source": [
    "# Single Entity with many forms( different situations different results)"
   ]
  },
  {
   "cell_type": "code",
   "execution_count": 52,
   "id": "e9a72cff-3fdd-4be8-a337-cabf77d9ae88",
   "metadata": {},
   "outputs": [
    {
     "data": {
      "text/plain": [
       "[34, 45, 67, 78, 90, 65]"
      ]
     },
     "execution_count": 52,
     "metadata": {},
     "output_type": "execute_result"
    }
   ],
   "source": [
    "a=[34,45,67]\n",
    "b=[78,90,65]\n",
    "a+b"
   ]
  },
  {
   "cell_type": "code",
   "execution_count": 53,
   "id": "07d17e2d-18dd-4572-b4df-b277ff1e1009",
   "metadata": {},
   "outputs": [
    {
     "data": {
      "text/plain": [
       "5"
      ]
     },
     "execution_count": 53,
     "metadata": {},
     "output_type": "execute_result"
    }
   ],
   "source": [
    "a='harry'\n",
    "len(a)"
   ]
  },
  {
   "cell_type": "code",
   "execution_count": 54,
   "id": "57468b3a-f27c-4f1b-b9a6-159e842744d0",
   "metadata": {},
   "outputs": [
    {
     "data": {
      "text/plain": [
       "2"
      ]
     },
     "execution_count": 54,
     "metadata": {},
     "output_type": "execute_result"
    }
   ],
   "source": [
    "a=['harry','jonny']\n",
    "len(a)"
   ]
  },
  {
   "cell_type": "code",
   "execution_count": 55,
   "id": "5245de5b-7aca-4ecd-bd8a-607831be2da4",
   "metadata": {},
   "outputs": [
    {
     "data": {
      "text/plain": [
       "3"
      ]
     },
     "execution_count": 55,
     "metadata": {},
     "output_type": "execute_result"
    }
   ],
   "source": [
    "a='546'\n",
    "len(a)"
   ]
  },
  {
   "cell_type": "code",
   "execution_count": 56,
   "id": "8e74176e-0804-44df-abe4-583bfcc43103",
   "metadata": {},
   "outputs": [
    {
     "ename": "TypeError",
     "evalue": "object of type 'int' has no len()",
     "output_type": "error",
     "traceback": [
      "\u001b[1;31m---------------------------------------------------------------------------\u001b[0m",
      "\u001b[1;31mTypeError\u001b[0m                                 Traceback (most recent call last)",
      "Cell \u001b[1;32mIn[56], line 2\u001b[0m\n\u001b[0;32m      1\u001b[0m a\u001b[38;5;241m=\u001b[39m\u001b[38;5;241m657\u001b[39m\n\u001b[1;32m----> 2\u001b[0m \u001b[38;5;28mlen\u001b[39m(a)\n",
      "\u001b[1;31mTypeError\u001b[0m: object of type 'int' has no len()"
     ]
    }
   ],
   "source": [
    "a=657\n",
    "len(a)"
   ]
  },
  {
   "cell_type": "code",
   "execution_count": 58,
   "id": "23c0b9ca-a6b0-4e73-88fa-e1f84b849550",
   "metadata": {},
   "outputs": [
    {
     "ename": "NameError",
     "evalue": "name 'ste' is not defined",
     "output_type": "error",
     "traceback": [
      "\u001b[1;31m---------------------------------------------------------------------------\u001b[0m",
      "\u001b[1;31mNameError\u001b[0m                                 Traceback (most recent call last)",
      "Cell \u001b[1;32mIn[58], line 1\u001b[0m\n\u001b[1;32m----> 1\u001b[0m a\u001b[38;5;241m=\u001b[39mste(\u001b[38;5;241m567\u001b[39m)\n\u001b[0;32m      2\u001b[0m \u001b[38;5;28mlen\u001b[39m(a)\n",
      "\u001b[1;31mNameError\u001b[0m: name 'ste' is not defined"
     ]
    }
   ],
   "source": [
    "a=ste(567) # not such variable as ste\n",
    "len(a)"
   ]
  },
  {
   "cell_type": "code",
   "execution_count": 63,
   "id": "8081628e-024f-4cdc-92d4-01b8b30a8971",
   "metadata": {},
   "outputs": [
    {
     "data": {
      "text/plain": [
       "3"
      ]
     },
     "execution_count": 63,
     "metadata": {},
     "output_type": "execute_result"
    }
   ],
   "source": [
    "def ste(a):\n",
    "    return str(a)\n",
    "\n",
    "a=ste(556)\n",
    "len(a)\n"
   ]
  },
  {
   "cell_type": "code",
   "execution_count": 68,
   "id": "b3d02abd-e400-4abe-a410-aca1a372579a",
   "metadata": {},
   "outputs": [
    {
     "name": "stdout",
     "output_type": "stream",
     "text": [
      "None <class 'NoneType'>\n"
     ]
    }
   ],
   "source": [
    "a=45\n",
    "\n",
    "a='45'\n",
    "\n",
    "a=None\n",
    "print(a,type(a))"
   ]
  },
  {
   "cell_type": "code",
   "execution_count": 76,
   "id": "3e67d4ed-c709-4c59-8120-1b037273d504",
   "metadata": {},
   "outputs": [
    {
     "name": "stdout",
     "output_type": "stream",
     "text": [
      "f1 car speed: Max Speed 200km/hr\n",
      "f1 car speed: Max Speed 250km/hr\n",
      "f1 car speed: Max Speed 300km/hr\n"
     ]
    }
   ],
   "source": [
    "# METHOD OVERRIDING\n",
    "\n",
    "class Car:\n",
    "    def speed(self):\n",
    "        return('Max Speed 200km/hr')\n",
    "    def auto_pilot(self):\n",
    "        return('it supports auto pilot mode!!')\n",
    "    def info(self):\n",
    "        return('this is just a car object')\n",
    "\n",
    "class BMW(Car):\n",
    "    def speed(self):\n",
    "        return('Max Speed 250km/hr')\n",
    "    def info(self):\n",
    "        return('A BMW car object')\n",
    "\n",
    "class Audi(Car):\n",
    "    def speed(self):\n",
    "        return('Max Speed 300km/hr')\n",
    "    def info(self):\n",
    "        return('A Audi🏎️')\n",
    "\n",
    "for i in [Car,BMW,Audi]:\n",
    "         f1=i()\n",
    "         print('f1 car speed:', f1.speed())"
   ]
  },
  {
   "cell_type": "code",
   "execution_count": 77,
   "id": "f45fd4c4-6e2c-4b9e-9af2-a6dfc0459ff0",
   "metadata": {},
   "outputs": [],
   "source": [
    "f1=Audi()"
   ]
  },
  {
   "cell_type": "code",
   "execution_count": 78,
   "id": "bc037d29-b1d3-4c9e-861b-87cc123a2e47",
   "metadata": {},
   "outputs": [
    {
     "name": "stdout",
     "output_type": "stream",
     "text": [
      "Max Speed 300km/hr\n"
     ]
    }
   ],
   "source": [
    "print(f1.speed())"
   ]
  },
  {
   "cell_type": "code",
   "execution_count": 79,
   "id": "4c5f8b98-8112-4485-a66c-3bad4d0bf5a8",
   "metadata": {},
   "outputs": [],
   "source": [
    "#METHOD OVERLOADING (JUGAAD SE)\n",
    "#different outputs when given different parameters "
   ]
  },
  {
   "cell_type": "code",
   "execution_count": 89,
   "id": "94876717-d09b-4200-95fe-68e1a2ff6668",
   "metadata": {},
   "outputs": [
    {
     "name": "stdout",
     "output_type": "stream",
     "text": [
      "Hello hriday, how are you??\n",
      " Your address is Vasant Kunj\n"
     ]
    }
   ],
   "source": [
    "class GGSIPU:\n",
    "    def intro(self):\n",
    "        return('Hello Candidates!!')\n",
    "    def intro(self,name):\n",
    "        return(f'Hello {name}, how are you??')\n",
    "    def intro(self,name,address):\n",
    "        print(f'Hello {name}, how are you??')\n",
    "        print(f' Your address is {address}')\n",
    "a=GGSIPU()\n",
    "a.intro('hriday','Vasant Kunj')"
   ]
  },
  {
   "cell_type": "code",
   "execution_count": 100,
   "id": "7cd3daaa-b219-46ff-b120-55f57bb8883a",
   "metadata": {},
   "outputs": [],
   "source": [
    "#METHOD OVERLOADING\n",
    "class GGSIPU:\n",
    "    def intro(self,name=None,address=None):\n",
    "        if(name==None) and (address==None):\n",
    "            print('Hello Candidates!!')\n",
    "        elif(name != None) and (address==None):\n",
    "            print(f'Hello {name}, how are you')\n",
    "        elif(name!=None) and (address!=None):\n",
    "            print(f'Hello {name}, how are you??')\n",
    "            print(f'Your address is {address}')\n",
    "        else:\n",
    "            print('Hello Buddy!!')"
   ]
  },
  {
   "cell_type": "code",
   "execution_count": 101,
   "id": "e7aeec94-f74b-4622-ad86-2f9b2b64687d",
   "metadata": {},
   "outputs": [],
   "source": [
    "a=GGSIPU()"
   ]
  },
  {
   "cell_type": "code",
   "execution_count": 102,
   "id": "4bed860f-d586-4bed-85e1-32c6ad525bcf",
   "metadata": {},
   "outputs": [
    {
     "name": "stdout",
     "output_type": "stream",
     "text": [
      "Hello Candidates!!\n"
     ]
    }
   ],
   "source": [
    "a.intro()"
   ]
  },
  {
   "cell_type": "code",
   "execution_count": 103,
   "id": "0839841f-d41c-407f-ba1f-4556d354c9e3",
   "metadata": {},
   "outputs": [
    {
     "name": "stdout",
     "output_type": "stream",
     "text": [
      "Hello anjali, how are you??\n",
      "Your address is Vasant kunj\n"
     ]
    }
   ],
   "source": [
    "a.intro(name='anjali',address='Vasant kunj')"
   ]
  },
  {
   "cell_type": "code",
   "execution_count": 107,
   "id": "4685d83a-15fc-41b3-b195-595aed2a39ca",
   "metadata": {},
   "outputs": [
    {
     "name": "stdout",
     "output_type": "stream",
     "text": [
      "Hello Buddy!!\n"
     ]
    }
   ],
   "source": [
    "a.intro(address='vasant kunj')"
   ]
  },
  {
   "cell_type": "markdown",
   "id": "41b7ffc5-1445-4ec7-a910-d97fba675a9a",
   "metadata": {},
   "source": [
    "# Abstraction "
   ]
  },
  {
   "cell_type": "code",
   "execution_count": 109,
   "id": "78e2152c-012f-493e-9ec4-fd51a2b9fc7f",
   "metadata": {},
   "outputs": [],
   "source": [
    "#Idea/concept\n",
    "#Not a Physical Object \n",
    "#Blue Print(Replica)\n",
    "# Abstraction: Project Management\n",
    "# the methods are compulsory\n",
    "# no object can be created of an obstract class\n",
    "# class Website:\n",
    "#     def login()\n",
    "#     def logout()\n",
    "#     def signup()\n",
    "#     def updates()\n",
    "#     def multiple_pages()"
   ]
  },
  {
   "cell_type": "code",
   "execution_count": 115,
   "id": "0a74310e-84e4-4405-b77e-e70277162c52",
   "metadata": {},
   "outputs": [
    {
     "ename": "TypeError",
     "evalue": "Can't instantiate abstract class Website without an implementation for abstract methods 'login', 'logout'",
     "output_type": "error",
     "traceback": [
      "\u001b[1;31m---------------------------------------------------------------------------\u001b[0m",
      "\u001b[1;31mTypeError\u001b[0m                                 Traceback (most recent call last)",
      "Cell \u001b[1;32mIn[115], line 11\u001b[0m\n\u001b[0;32m      8\u001b[0m     \u001b[38;5;129m@abstractmethod\u001b[39m    \n\u001b[0;32m      9\u001b[0m     \u001b[38;5;28;01mdef\u001b[39;00m\u001b[38;5;250m \u001b[39m\u001b[38;5;21mlogout\u001b[39m(\u001b[38;5;28mself\u001b[39m):\n\u001b[0;32m     10\u001b[0m         \u001b[38;5;28mprint\u001b[39m(\u001b[38;5;124m'\u001b[39m\u001b[38;5;124mA logout method\u001b[39m\u001b[38;5;124m'\u001b[39m)\n\u001b[1;32m---> 11\u001b[0m asus\u001b[38;5;241m=\u001b[39mWebsite()\n",
      "\u001b[1;31mTypeError\u001b[0m: Can't instantiate abstract class Website without an implementation for abstract methods 'login', 'logout'"
     ]
    }
   ],
   "source": [
    "from abc import ABC, abstractmethod\n",
    "\n",
    "class Website(ABC):\n",
    "\n",
    "    @abstractmethod\n",
    "    def login(self):\n",
    "        print('This is a login method')\n",
    "    @abstractmethod    \n",
    "    def logout(self):\n",
    "        print('A logout method')\n",
    "asus=Website() # as the instance creation was unsuccessfull becauses of the abstraction type error is occured"
   ]
  },
  {
   "cell_type": "code",
   "execution_count": 124,
   "id": "5d348ac6-7f50-4941-8491-60153a6ad977",
   "metadata": {},
   "outputs": [],
   "source": [
    "class AB(Website):\n",
    "    def signup(self):\n",
    "        print('user can signup!!')\n",
    "    def login(self):\n",
    "        print('This is a login method')\n",
    "    def logout(self):\n",
    "        print('A logout method')\n",
    "\n",
    "google = AB()"
   ]
  },
  {
   "cell_type": "code",
   "execution_count": 125,
   "id": "79ee1d82-b460-40fb-86b9-d79daffddf40",
   "metadata": {},
   "outputs": [
    {
     "name": "stdout",
     "output_type": "stream",
     "text": [
      "This is a login method\n"
     ]
    }
   ],
   "source": [
    "google.login()"
   ]
  },
  {
   "cell_type": "code",
   "execution_count": 126,
   "id": "4eb36f20-50be-4869-ae71-1fcd65ac9e7d",
   "metadata": {},
   "outputs": [
    {
     "name": "stdout",
     "output_type": "stream",
     "text": [
      "A logout method\n"
     ]
    }
   ],
   "source": [
    "google.logout()"
   ]
  },
  {
   "cell_type": "code",
   "execution_count": 127,
   "id": "444bcf34-c1cc-408f-b102-c59c2a16f03d",
   "metadata": {},
   "outputs": [
    {
     "name": "stdout",
     "output_type": "stream",
     "text": [
      "user can signup!!\n"
     ]
    }
   ],
   "source": [
    "google.signup()"
   ]
  },
  {
   "cell_type": "code",
   "execution_count": 128,
   "id": "f35d1320-8edf-4285-bb21-4eda0ddcb8b9",
   "metadata": {},
   "outputs": [
    {
     "ename": "TypeError",
     "evalue": "Can't instantiate abstract class Website without an implementation for abstract methods 'login', 'logout'",
     "output_type": "error",
     "traceback": [
      "\u001b[1;31m---------------------------------------------------------------------------\u001b[0m",
      "\u001b[1;31mTypeError\u001b[0m                                 Traceback (most recent call last)",
      "Cell \u001b[1;32mIn[128], line 1\u001b[0m\n\u001b[1;32m----> 1\u001b[0m google \u001b[38;5;241m=\u001b[39m Website()\n",
      "\u001b[1;31mTypeError\u001b[0m: Can't instantiate abstract class Website without an implementation for abstract methods 'login', 'logout'"
     ]
    }
   ],
   "source": [
    "google = Website()"
   ]
  },
  {
   "cell_type": "code",
   "execution_count": null,
   "id": "edb81e11-b6b6-436a-8544-f5b090f8e37b",
   "metadata": {},
   "outputs": [],
   "source": []
  }
 ],
 "metadata": {
  "kernelspec": {
   "display_name": "Python [conda env:base] *",
   "language": "python",
   "name": "conda-base-py"
  },
  "language_info": {
   "codemirror_mode": {
    "name": "ipython",
    "version": 3
   },
   "file_extension": ".py",
   "mimetype": "text/x-python",
   "name": "python",
   "nbconvert_exporter": "python",
   "pygments_lexer": "ipython3",
   "version": "3.13.5"
  }
 },
 "nbformat": 4,
 "nbformat_minor": 5
}
