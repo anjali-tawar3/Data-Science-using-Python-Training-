{
 "cells": [
  {
   "cell_type": "code",
   "execution_count": null,
   "id": "c946e90c-5f72-4667-80b9-ec732952380f",
   "metadata": {},
   "outputs": [],
   "source": [
    "def check_palindrome(word):\n",
    "    return word\n",
    "    \n",
    "\n",
    "check_palindrome('ajay')"
   ]
  },
  {
   "cell_type": "code",
   "execution_count": 4,
   "id": "230253c4-dfa6-49f8-a094-5d091d78ac1a",
   "metadata": {},
   "outputs": [
    {
     "data": {
      "text/plain": [
       "'anana'"
      ]
     },
     "execution_count": 4,
     "metadata": {},
     "output_type": "execute_result"
    }
   ],
   "source": [
    "a='anana'\n",
    "a[::-1]"
   ]
  },
  {
   "cell_type": "code",
   "execution_count": 6,
   "id": "aff93d51-978c-4514-af34-ac01402f31e0",
   "metadata": {},
   "outputs": [
    {
     "name": "stdout",
     "output_type": "stream",
     "text": [
      "anana is a palindrome\n"
     ]
    }
   ],
   "source": [
    "if a== a[::-1]:\n",
    "   print(f'{a} is a palindrome')\n",
    "else:\n",
    "   print(f'{a} is not a palindrome')"
   ]
  },
  {
   "cell_type": "code",
   "execution_count": 10,
   "id": "533af603-1484-474b-aa49-f65a9334ee1d",
   "metadata": {},
   "outputs": [],
   "source": [
    "def check_palindrome(word):\n",
    "    word=word.lower()\n",
    "    if word==word[::-1]:\n",
    "       print('palindrome')\n",
    "    else:\n",
    "       print('not palindrome')"
   ]
  },
  {
   "cell_type": "code",
   "execution_count": 11,
   "id": "288f2c3c-a1b5-4296-88f5-f0c7c05ca629",
   "metadata": {},
   "outputs": [
    {
     "name": "stdout",
     "output_type": "stream",
     "text": [
      "not palindrome\n"
     ]
    }
   ],
   "source": [
    "check_palindrome('anjali')"
   ]
  },
  {
   "cell_type": "code",
   "execution_count": 13,
   "id": "a6927532-abe7-4fca-8940-151a331ecdfd",
   "metadata": {},
   "outputs": [],
   "source": [
    "def check_palindrome(word:str):\n",
    "    if type(word)==str:\n",
    "        word=word.upper()\n",
    "        if word==word[::-1]:\n",
    "            return 'palindrome'\n",
    "        else:\n",
    "            return 'not a palindrome'\n",
    "    else:\n",
    "        return ' invalid data'"
   ]
  },
  {
   "cell_type": "code",
   "execution_count": 14,
   "id": "1d482d4d-f5c7-4811-9d99-d8b8e6a47119",
   "metadata": {},
   "outputs": [
    {
     "data": {
      "text/plain": [
       "'palindrome'"
      ]
     },
     "execution_count": 14,
     "metadata": {},
     "output_type": "execute_result"
    }
   ],
   "source": [
    "check_palindrome('naman')"
   ]
  },
  {
   "cell_type": "code",
   "execution_count": 15,
   "id": "70872dad-b421-403e-b260-7d7e3460db87",
   "metadata": {},
   "outputs": [],
   "source": [
    "def give_fibo(n):\n",
    "    fibo=[0,1]\n",
    "    for i in range(n-2):\n",
    "        last_num=fibo[-1]\n",
    "        second_num=fibo[-2]\n",
    "        next_num=last_num+second_num\n",
    "        fibo.append(next_num)\n",
    "    return fibo"
   ]
  },
  {
   "cell_type": "code",
   "execution_count": 16,
   "id": "9f513b8e-be6a-4ff2-be1b-5a03ffd3985e",
   "metadata": {},
   "outputs": [
    {
     "data": {
      "text/plain": [
       "[0, 1, 1, 2, 3, 5]"
      ]
     },
     "execution_count": 16,
     "metadata": {},
     "output_type": "execute_result"
    }
   ],
   "source": [
    "give_fibo(6)"
   ]
  },
  {
   "cell_type": "code",
   "execution_count": 17,
   "id": "e9725e94-bd4f-4b5f-872d-9a5515bc8faf",
   "metadata": {},
   "outputs": [
    {
     "data": {
      "text/plain": [
       "[0, 1, 1, 2, 3, 5, 8, 13, 21, 34, 55, 89, 144, 233, 377]"
      ]
     },
     "execution_count": 17,
     "metadata": {},
     "output_type": "execute_result"
    }
   ],
   "source": [
    "give_fibo(15)"
   ]
  },
  {
   "cell_type": "code",
   "execution_count": 18,
   "id": "35cc80e2-b800-4844-8be6-155e3b0f4899",
   "metadata": {},
   "outputs": [],
   "source": [
    "def check_prime(number):\n",
    "    for i in range(2,number):\n",
    "        if number%i==0:\n",
    "            return 'not a prime number'\n",
    "            break\n",
    "            print('happy holi')\n",
    "        else:\n",
    "            return 'prime number'\n",
    "        "
   ]
  },
  {
   "cell_type": "code",
   "execution_count": 19,
   "id": "9f2dec17-f288-426e-8125-1cac8d447d4d",
   "metadata": {},
   "outputs": [
    {
     "data": {
      "text/plain": [
       "'prime number'"
      ]
     },
     "execution_count": 19,
     "metadata": {},
     "output_type": "execute_result"
    }
   ],
   "source": [
    "check_prime(47)"
   ]
  },
  {
   "cell_type": "code",
   "execution_count": 37,
   "id": "2c65168d-3e8f-4a11-913f-884d0144e7c5",
   "metadata": {},
   "outputs": [
    {
     "name": "stdout",
     "output_type": "stream",
     "text": [
      "*\n",
      "**\n",
      "***\n",
      "****\n",
      "*****\n"
     ]
    }
   ],
   "source": [
    "a=5\n",
    "for i in range(1,a+1):\n",
    "    print(i* '*')"
   ]
  },
  {
   "cell_type": "code",
   "execution_count": 42,
   "id": "50d94218-99a2-478e-96fe-c154b24120eb",
   "metadata": {},
   "outputs": [
    {
     "name": "stdout",
     "output_type": "stream",
     "text": [
      "    *\n",
      "   **\n",
      "  ***\n",
      " ****\n",
      "*****\n"
     ]
    }
   ],
   "source": [
    "a=5\n",
    "for i in range(1,a+1):\n",
    "    print(' '*(a-i) +i*'*')"
   ]
  },
  {
   "cell_type": "code",
   "execution_count": 43,
   "id": "9130fa85-408f-4a40-884b-5752a18e35bc",
   "metadata": {},
   "outputs": [
    {
     "name": "stdout",
     "output_type": "stream",
     "text": [
      "     *\n",
      "    * *\n",
      "   * * *\n",
      "  * * * *\n",
      " * * * * *\n"
     ]
    }
   ],
   "source": [
    "a=5\n",
    "for i in range(1,a+1):\n",
    "    print(' '*(a-i) +i*' *')"
   ]
  },
  {
   "cell_type": "code",
   "execution_count": 44,
   "id": "d197df82-2a2d-4eb6-8c3e-97e3f676338a",
   "metadata": {},
   "outputs": [],
   "source": [
    "def print_star(n=5, typ = 'left'):\n",
    "    for i in range(1,n+1):\n",
    "        print(' '*(n-i) + i*'* ')"
   ]
  },
  {
   "cell_type": "code",
   "execution_count": 45,
   "id": "1e6e78c3-fe14-41bc-b449-bd5d69502cfd",
   "metadata": {},
   "outputs": [
    {
     "name": "stdout",
     "output_type": "stream",
     "text": [
      "     * \n",
      "    * * \n",
      "   * * * \n",
      "  * * * * \n",
      " * * * * * \n",
      "* * * * * * \n"
     ]
    }
   ],
   "source": [
    "print_star(6)"
   ]
  },
  {
   "cell_type": "code",
   "execution_count": 33,
   "id": "f4a113ad-4e5e-426e-b85f-1db3e42cc7af",
   "metadata": {},
   "outputs": [],
   "source": [
    "def print_star(n=5, typ= 'left' ,shape='*'):\n",
    "    if typ=='left':\n",
    "        space=''\n",
    "    elif typ=='right':\n",
    "        space='  '\n",
    "    elif typ=='mid':\n",
    "        space=' '\n",
    "    for i in range(1,n+1):\n",
    "        print(space*(n-i)+i*'* ',)"
   ]
  },
  {
   "cell_type": "code",
   "execution_count": 35,
   "id": "0af29b87-f060-40c8-9120-67111de261d5",
   "metadata": {},
   "outputs": [
    {
     "name": "stdout",
     "output_type": "stream",
     "text": [
      "     & \n",
      "    & & \n",
      "   & & & \n",
      "  & & & & \n",
      " & & & & & \n",
      "& & & & & & \n"
     ]
    }
   ],
   "source": [
    "print_star(6,'mid', '&')"
   ]
  },
  {
   "cell_type": "code",
   "execution_count": 4,
   "id": "f3fafa10-2ac8-476c-8840-98fe325e893c",
   "metadata": {},
   "outputs": [
    {
     "name": "stdout",
     "output_type": "stream",
     "text": [
      "          * \n",
      "        * * \n",
      "      * * * \n",
      "    * * * * \n",
      "  * * * * * \n",
      "* * * * * * \n"
     ]
    }
   ],
   "source": [
    "print_star(6,'right')"
   ]
  },
  {
   "cell_type": "code",
   "execution_count": 5,
   "id": "077c5d91-1efa-43e6-96c4-1e2a11dd4b4d",
   "metadata": {},
   "outputs": [],
   "source": [
    "def sum_of_n_natural_numbers(n):\n",
    "    result = 0\n",
    "    for i in range(1,n+1):\n",
    "        result += i\n",
    "    return result"
   ]
  },
  {
   "cell_type": "code",
   "execution_count": 6,
   "id": "95a7e69f-a8d0-47cb-9fef-bbbceec7356f",
   "metadata": {},
   "outputs": [
    {
     "data": {
      "text/plain": [
       "15"
      ]
     },
     "execution_count": 6,
     "metadata": {},
     "output_type": "execute_result"
    }
   ],
   "source": [
    "sum_of_n_natural_numbers(5)"
   ]
  },
  {
   "cell_type": "code",
   "execution_count": 7,
   "id": "8dd42654-5d31-4372-adb5-adfb98f40177",
   "metadata": {},
   "outputs": [],
   "source": [
    "def factorial(n):\n",
    "    result = 1\n",
    "    for i in range(1,n+1):\n",
    "        result *= i\n",
    "return result"
   ]
  },
  {
   "cell_type": "code",
   "execution_count": 9,
   "id": "d9eae779-3e39-4a69-8ccc-3b2792d9bbeb",
   "metadata": {},
   "outputs": [
    {
     "data": {
      "text/plain": [
       "120"
      ]
     },
     "execution_count": 9,
     "metadata": {},
     "output_type": "execute_result"
    }
   ],
   "source": [
    "factorial(5)\n"
   ]
  },
  {
   "cell_type": "code",
   "execution_count": 10,
   "id": "9d4eb2eb-416c-406e-a2b7-020d0b517c1c",
   "metadata": {},
   "outputs": [],
   "source": [
    "def total_sales(*args): #* converts args into tuple\n",
    "  #unpacking\n",
    "  result = 0\n",
    "  for i in args:\n",
    "    result += i\n",
    "  return result"
   ]
  },
  {
   "cell_type": "code",
   "execution_count": 12,
   "id": "1b2d3a37-c004-4617-8908-d6db4fa3d18b",
   "metadata": {},
   "outputs": [
    {
     "data": {
      "text/plain": [
       "10730"
      ]
     },
     "execution_count": 12,
     "metadata": {},
     "output_type": "execute_result"
    }
   ],
   "source": [
    "total_sales(23,649,4,449,9494,111)"
   ]
  },
  {
   "cell_type": "code",
   "execution_count": null,
   "id": "57857129-5023-4623-9b04-3b11c4345b92",
   "metadata": {},
   "outputs": [],
   "source": [
    "sales = [45678,63,456,347,3245]\n",
    "\n",
    "# min(sales)"
   ]
  },
  {
   "cell_type": "code",
   "execution_count": 15,
   "id": "4a3a7630-57dd-4373-ad95-37e470e270be",
   "metadata": {},
   "outputs": [
    {
     "name": "stdout",
     "output_type": "stream",
     "text": [
      "0\n"
     ]
    }
   ],
   "source": [
    "sales = [45678,63,456,2,0]\n",
    "min_element = sales[0]\n",
    "\n",
    "for i in sales[1:]:\n",
    "  if i < min_element:\n",
    "    min_element = i\n",
    "print(min_element)"
   ]
  },
  {
   "cell_type": "code",
   "execution_count": 16,
   "id": "ec9d07b8-b808-46f0-a809-463871422305",
   "metadata": {},
   "outputs": [],
   "source": [
    "def minn(*data):\n",
    "  min_ele = data[0]\n",
    "  for i in data[1:]:\n",
    "    if i< min_ele:\n",
    "      min_ele = i\n",
    "  return min_ele"
   ]
  },
  {
   "cell_type": "code",
   "execution_count": 17,
   "id": "2fb483eb-817d-4c74-885b-ee0852e3468b",
   "metadata": {},
   "outputs": [
    {
     "data": {
      "text/plain": [
       "8"
      ]
     },
     "execution_count": 17,
     "metadata": {},
     "output_type": "execute_result"
    }
   ],
   "source": [
    "minn(376,246,354,8,667,468)"
   ]
  },
  {
   "cell_type": "code",
   "execution_count": 18,
   "id": "da303ab2-5bb0-49ba-892b-20368bc89b06",
   "metadata": {},
   "outputs": [],
   "source": [
    "#max(sales)\n",
    "def maxx(*data):\n",
    "  max_ele = data[0]\n",
    "  for i in data[1:]:\n",
    "    if i> max_ele:\n",
    "      max_ele = i\n",
    "  return max_ele"
   ]
  },
  {
   "cell_type": "code",
   "execution_count": 19,
   "id": "00ef8f8d-0051-4815-9b13-f38a867a0414",
   "metadata": {},
   "outputs": [
    {
     "data": {
      "text/plain": [
       "667"
      ]
     },
     "execution_count": 19,
     "metadata": {},
     "output_type": "execute_result"
    }
   ],
   "source": [
    "maxx(376,246,354,8,667,468)"
   ]
  },
  {
   "cell_type": "code",
   "execution_count": 20,
   "id": "8121bdf1-7556-45f4-a5ec-9caff8f67cba",
   "metadata": {},
   "outputs": [],
   "source": [
    "company = ['ola','uber','rapido','indrive','adani','tata']\n",
    "\n",
    "# ['#OLA','#UBER','#RAPIDO']\n",
    "\n",
    "\n",
    "\n",
    "def add_hashtag(*company):\n",
    "  result = []\n",
    "  for i in company:\n",
    "    result.append('#'+i.upper())\n",
    "  return result"
   ]
  },
  {
   "cell_type": "code",
   "execution_count": 21,
   "id": "7dc0f860-c9b9-4616-813e-f73aa7291479",
   "metadata": {},
   "outputs": [
    {
     "data": {
      "text/plain": [
       "['#OLA', '#UBER', '#RAPIDO', '#INDRIVE', '#ADANI', '#TATA']"
      ]
     },
     "execution_count": 21,
     "metadata": {},
     "output_type": "execute_result"
    }
   ],
   "source": [
    "add_hashtag(*company)"
   ]
  },
  {
   "cell_type": "code",
   "execution_count": 22,
   "id": "db6e2b37-ff5d-45d1-bae8-47e227f08fcf",
   "metadata": {},
   "outputs": [],
   "source": [
    "def store_records(name,age,sec,roll_no,Class):\n",
    "  data = {'Name':name,'Age':age,'Sec':sec,'Roll_NO':roll_no,'Class':Class}\n",
    "  import pandas as pd\n",
    "  result = pd.DataFrame(data,index = [0])\n",
    "  return result"
   ]
  },
  {
   "cell_type": "code",
   "execution_count": 23,
   "id": "5ee3620b-eb99-4bc5-a1f2-3e117f8c87eb",
   "metadata": {},
   "outputs": [
    {
     "data": {
      "text/html": [
       "<div>\n",
       "<style scoped>\n",
       "    .dataframe tbody tr th:only-of-type {\n",
       "        vertical-align: middle;\n",
       "    }\n",
       "\n",
       "    .dataframe tbody tr th {\n",
       "        vertical-align: top;\n",
       "    }\n",
       "\n",
       "    .dataframe thead th {\n",
       "        text-align: right;\n",
       "    }\n",
       "</style>\n",
       "<table border=\"1\" class=\"dataframe\">\n",
       "  <thead>\n",
       "    <tr style=\"text-align: right;\">\n",
       "      <th></th>\n",
       "      <th>Name</th>\n",
       "      <th>Age</th>\n",
       "      <th>Sec</th>\n",
       "      <th>Roll_NO</th>\n",
       "      <th>Class</th>\n",
       "    </tr>\n",
       "  </thead>\n",
       "  <tbody>\n",
       "    <tr>\n",
       "      <th>0</th>\n",
       "      <td>Naman</td>\n",
       "      <td>21</td>\n",
       "      <td>A</td>\n",
       "      <td>12</td>\n",
       "      <td>12</td>\n",
       "    </tr>\n",
       "  </tbody>\n",
       "</table>\n",
       "</div>"
      ],
      "text/plain": [
       "    Name  Age Sec  Roll_NO  Class\n",
       "0  Naman   21   A       12     12"
      ]
     },
     "execution_count": 23,
     "metadata": {},
     "output_type": "execute_result"
    }
   ],
   "source": [
    "store_records('Mohan',21,'A',12,12)\n",
    "store_records('Karan',21,'A',12,12)\n",
    "store_records('Naman',21,'A',12,12)"
   ]
  },
  {
   "cell_type": "code",
   "execution_count": 24,
   "id": "e8b06ade-92ec-4b9c-b698-8e1bca5b3572",
   "metadata": {},
   "outputs": [],
   "source": [
    "def students_records(**kwargs):\n",
    "    # print(kwargs)\n",
    "    # try exception\n",
    "    import pandas as pd\n",
    "    try:\n",
    "        result = pd.DataFrame(kwargs)\n",
    "        return result\n",
    "    except:\n",
    "        result = pd.DataFrame(kwargs,index = [1])\n",
    "        return result"
   ]
  },
  {
   "cell_type": "code",
   "execution_count": 25,
   "id": "458105bf-feb0-4148-816e-82eb7fca807e",
   "metadata": {},
   "outputs": [
    {
     "data": {
      "text/html": [
       "<div>\n",
       "<style scoped>\n",
       "    .dataframe tbody tr th:only-of-type {\n",
       "        vertical-align: middle;\n",
       "    }\n",
       "\n",
       "    .dataframe tbody tr th {\n",
       "        vertical-align: top;\n",
       "    }\n",
       "\n",
       "    .dataframe thead th {\n",
       "        text-align: right;\n",
       "    }\n",
       "</style>\n",
       "<table border=\"1\" class=\"dataframe\">\n",
       "  <thead>\n",
       "    <tr style=\"text-align: right;\">\n",
       "      <th></th>\n",
       "      <th>Name</th>\n",
       "      <th>Age</th>\n",
       "      <th>Roll_No</th>\n",
       "      <th>Address</th>\n",
       "    </tr>\n",
       "  </thead>\n",
       "  <tbody>\n",
       "    <tr>\n",
       "      <th>0</th>\n",
       "      <td>Komal</td>\n",
       "      <td>23</td>\n",
       "      <td>23</td>\n",
       "      <td>Noida</td>\n",
       "    </tr>\n",
       "    <tr>\n",
       "      <th>1</th>\n",
       "      <td>Mohan</td>\n",
       "      <td>45</td>\n",
       "      <td>32</td>\n",
       "      <td>Delhi</td>\n",
       "    </tr>\n",
       "    <tr>\n",
       "      <th>2</th>\n",
       "      <td>Ajay</td>\n",
       "      <td>56</td>\n",
       "      <td>67</td>\n",
       "      <td>Greater Noida</td>\n",
       "    </tr>\n",
       "  </tbody>\n",
       "</table>\n",
       "</div>"
      ],
      "text/plain": [
       "    Name  Age  Roll_No        Address\n",
       "0  Komal   23       23          Noida\n",
       "1  Mohan   45       32          Delhi\n",
       "2   Ajay   56       67  Greater Noida"
      ]
     },
     "execution_count": 25,
     "metadata": {},
     "output_type": "execute_result"
    }
   ],
   "source": [
    "students_records(Name = ['Komal','Mohan','Ajay'],\n",
    "                 Age = [23,45,56],\n",
    "                 Roll_No = [23,32,67],\n",
    "                 Address = ['Noida','Delhi','Greater Noida'])"
   ]
  },
  {
   "cell_type": "code",
   "execution_count": null,
   "id": "396c16f9-5dc8-4ca2-b294-a8873cbdb409",
   "metadata": {},
   "outputs": [],
   "source": []
  }
 ],
 "metadata": {
  "kernelspec": {
   "display_name": "Python [conda env:base] *",
   "language": "python",
   "name": "conda-base-py"
  },
  "language_info": {
   "codemirror_mode": {
    "name": "ipython",
    "version": 3
   },
   "file_extension": ".py",
   "mimetype": "text/x-python",
   "name": "python",
   "nbconvert_exporter": "python",
   "pygments_lexer": "ipython3",
   "version": "3.13.5"
  }
 },
 "nbformat": 4,
 "nbformat_minor": 5
}
